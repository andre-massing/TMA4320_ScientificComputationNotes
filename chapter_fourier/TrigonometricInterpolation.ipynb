{
 "cells": [
  {
   "cell_type": "markdown",
   "metadata": {},
   "source": [
    "## Trigonometric interpolation and friends"
   ]
  },
  {
   "cell_type": "markdown",
   "metadata": {},
   "source": [
    "### The trigonometric interpolation problem\n",
    "\n",
    "As usual, we start from a given interval $I=[0, L)$ and $N$ equidistant points $x_k = k \\frac{L}{N}$, $k=0, 1, \\ldots, N-1$.\n",
    "we  now want to consider the following interpolation problem\n",
    "\n",
    ":::{prf:definition} Trigonometric interpolation\n",
    ":label: fou:def:trig_interp\n",
    "\n",
    "For a given list of sampled function values $f_l = f(x_l)$, $0\\leqslant l \\leqslant N-1$,\n",
    "find a (the?) trigonometric polynomial $q(x)$ of the form\n",
    "\n",
    "$$\n",
    "q_N(x) = \\sum_{k=0}^{N-1} c_k e^{i 2 \\pi k x/L}\n",
    "= \\sum_{k=0}^{N-1} c_k \\omega^{k}(x)\n",
    "$$ (fou:eq:trig_poly)\n",
    "\n",
    "which interpolates the function values $f_l$ at the points $x_l$, i.e.\n",
    "\n",
    "$$\n",
    "q_N(x_l) = f_l, \\quad 0\\leqslant l \\leqslant N-1.\n",
    "$$ (fou:eq:trig_interp-prob)\n",
    "\n",
    ":::\n"
   ]
  },
  {
   "cell_type": "markdown",
   "metadata": {},
   "source": [
    "Similar to the Vandermonde matrix approach {ref}`(sec:poly-interpol-direct)` for the polynomial interpolation problem we discussed in\n",
    "Chapter {ref}`poly-interpol`, we can set up a linear system for the coefficients $c_k$,\n",
    "\n",
    "$$\n",
    "f_l = q_N(x_l) \n",
    "= \\sum_{k=0}^{N-1} c_k \\omega^{k}(x_l) \n",
    "= \\sum_{k=0}^{N-1} c_k \\omega_N^{kl}, \\quad 0\\leqslant l \\leqslant N-1. \n",
    "$$"
   ]
  },
  {
   "cell_type": "markdown",
   "metadata": {},
   "source": [
    "Or in matrix-vector notation\n",
    "\n",
    "$$\n",
    "\\begin{pmatrix}\n",
    "1 & 1 & 1 & \\cdots & 1 \\\\\n",
    "1 & \\omega_N^{1} & \\omega_N^{2} & \\cdots & \\omega_N^{(N-1)} \\\\\n",
    "\\vdots & \\vdots & \\vdots & \\ddots & \\vdots \\\\\n",
    "1 & \\omega_N^{(N-1)} & \\omega_N^{2(N-1)} & \\cdots & \\omega_N^{(N-1)^2}\n",
    "\\end{pmatrix}\n",
    "\\begin{pmatrix}\n",
    "c_0 \\\\ c_1 \\\\ \\vdots \\\\ c_{N-1}\n",
    "\\end{pmatrix}\n",
    "= \n",
    "\\begin{pmatrix}\n",
    "f_0 \\\\ f_1 \\\\ \\vdots \\\\ f_{N-1}\n",
    "\\end{pmatrix}.\n",
    "$$"
   ]
  },
  {
   "cell_type": "markdown",
   "metadata": {},
   "source": [
    "Aha! This matrix is exactly the one we have seen in the definition on the inverse DFT,\n",
    "only that we now want to solve the inverse problem, i.e. we want\n",
    "to find the coefficients $c_k$ for a given set of function values $f_l$.\n",
    "But since the inverse DFT is invertible, and its inverse is given by the DFT matrix, we see\n",
    "that there is a unique solution for the coefficients $c_k$. We record this observation in the following theorem.\n"
   ]
  },
  {
   "cell_type": "markdown",
   "metadata": {},
   "source": [
    ":::{prf:theorem} Trigonometric interpolation problem\n",
    ":label: fou:thm:trig_interp\n",
    "\n",
    "There exists a unique trigonometric polynomial $q(x)$ of the form\n",
    "{eq}`fou:eq:trig_poly` which solves the interpolation problem {eq}`fou:eq:trig_interp-prob`,\n",
    "and the coefficients $c_k$ are given by the DFT of the sample  vector $\\{f_l\\}_{l=0}^{N-1}$, i.e.\n",
    "$$\n",
    "  c_k = \\widehat{f}_k = \\frac{1}{N} \\sum_{l=0}^{N-1} f_l \\omega_N^{-l k}.\n",
    "$$\n",
    "\n",
    "The trigonometric polynomial $q(x)$ is called the **trigonometric interpolant** of the function values $f_l$ at the points $x_l$, and sometimes we write \n",
    "$$\n",
    "q_N(x) =: \\pi^N f(x).\n",
    "$$\n",
    "to emphasize the relation between the function $f(x)$ and its trigonometric interpolant.\n",
    ":::"
   ]
  },
  {
   "cell_type": "markdown",
   "metadata": {},
   "source": [
    "Often it desirable to compute a trigonmetric interpolating polynomial\n",
    "which frequencies are centered around $0$.\n",
    "\n",
    "More precisely, assuming that $N = 2n + 1$ is odd, we wish to find a polynomial $\\tilde{q}_N(x)$ of the form\n",
    "$$\n",
    "\\tilde{q}_N(x) = \\sum_{k=-n}^{n} \\tilde{c}_k \\omega^{k}(x)\n",
    "$$\n",
    "which satisfies the interpolation conditions $\\tilde{q}_N(x_l) = f_l$ for $0\\leqslant l \\leqslant N-1$."
   ]
  },
  {
   "cell_type": "markdown",
   "metadata": {},
   "source": [
    "This one can in fact easily constructed from $q_N(x)$ respectively the coefficients $c_k$ as we will see now. We recall that the original polynomial $q_N(x)$ \n",
    "satisfies  \n",
    "\n",
    "\\begin{align}\n",
    "f_l = q(x_l) \n",
    "&= \\sum_{k=0}^{N-1} c_k \\omega_N^{kl}\n",
    "\\\\\n",
    "&= \\sum_{k=0}^{n} c_k \\omega_N^{kl}\n",
    "+\\sum_{k=n+1}^{N-1} c_k \\omega_N^{kl}\n",
    "\\end{align}\n",
    "for $ 0\\leqslant l \\leqslant N-1$."
   ]
  },
  {
   "cell_type": "markdown",
   "metadata": {},
   "source": [
    "\n",
    "Now we simply shift the index in the second sum by $-N$\n",
    "and use the periodicity of the $N$-th roots of unity $\\omega_N^{k+N} = \\omega_N^k$\n",
    "to see that\n",
    "\n",
    "\\begin{align}\n",
    "q_N(x_l) \n",
    "&= \\sum_{k=0}^{n} c_k \\omega_N^{kl}\n",
    "+\\sum_{k=-n}^{-1} c_{k+N} \\omega_N^{(k+N)l}\n",
    "\\\\\n",
    "&= \\sum_{k=0}^{n} c_k \\omega_N^{kl}\n",
    "+\\sum_{k=-n}^{-1} c_{k+N} \\omega_N^{k}\n",
    "= \\sum_{k=-n}^{n} \\widetilde{c}_k \\omega_N^{kl}\n",
    "\\end{align}\n",
    "\n",
    "holds for $0 \\leqslant l \\leqslant N-1$,\n",
    "where we set\n",
    "$$\n",
    "\\widetilde{c}_k =\n",
    "\\begin{cases}\n",
    "c_k & \\text{for } 0\\leqslant k \\leqslant n, \\\\\n",
    "c_{k+N} & \\text{for } -n \\leqslant k \\leqslant -1.\n",
    "\\end{cases}\n",
    "$$"
   ]
  },
  {
   "cell_type": "markdown",
   "metadata": {},
   "source": [
    "Since $\\omega_N^{kl} = \\omega^k(x_l)$ we thus conclude that\n",
    "the trigonometric polynomial\n",
    "\n",
    "$$\n",
    "\\tilde{q}_N(x) = \\sum_{k=-n}^{n} \\widetilde{c}_k \\omega^k(x)\n",
    "= \\sum_{k=-(N-1)/2}^{(N-1)/2} \\widetilde{c}_k \\omega^k(x)\n",
    "$$\n",
    "\n",
    "also satisfies the interpolation conditions $\\tilde{q}_N(x_l) = f_l$ for $0\\leqslant l \\leqslant N-1$."
   ]
  },
  {
   "cell_type": "markdown",
   "metadata": {},
   "source": [
    ":::{note}\n",
    "This resembles more closely the form of the truncated complex Fourier series\n",
    "for an $L$ periodic function $f$,\n",
    "$$\n",
    "f \\sim \\sum_{k=-n}^{n} \\widehat{f}(k) e^{i2\\pi k x /L}\n",
    "= \\sum_{k=-n}^{n} \\widehat{f}(k) \\omega^k(x)\n",
    "$$\n",
    ":::"
   ]
  },
  {
   "cell_type": "markdown",
   "metadata": {},
   "source": [
    "For even $N = 2n$, we can follow the same line of thoughts to see\n",
    "that with\n",
    "$$\n",
    "\\widetilde{c}_k =\n",
    "\\begin{cases}\n",
    "c_k & \\text{for } 0\\leqslant k \\leqslant n-1, \\\\\n",
    "c_{k+N} & \\text{for } -n \\leqslant k \\leqslant -1.\n",
    "\\end{cases}\n",
    "$$\n",
    "the polynomial\n",
    "$$\n",
    "\\tilde{q}(x) = \\sum_{k=-n}^{n-1} \\widetilde{c}_k \\omega^k(x)\n",
    "\\tilde{q}(x) = \\sum_{k=-N/2}^{N/2-1} \\widetilde{c}_k \\omega^k(x)\n",
    "$$\n",
    "satisfies the interpolation conditions $\\tilde{q}(x_l) = f_l$ for $0\\leqslant l \\leqslant N-1$."
   ]
  },
  {
   "cell_type": "markdown",
   "metadata": {},
   "source": [
    "Because of the simple index shift, we can use the discrete fast Fourier transform of $\\{f_l\\}_{l=0}^N$ to compute both $c_k$ and $\\widetilde{c}_k$. As a matter of convention the following indexing \n",
    "is commonly used for the Fourier coefficients (But always check!):\n",
    "\n",
    "For $N = 2n +1 $ we have\n",
    "\n",
    "\\begin{align}\n",
    "[\\widehat{f}_0, \\widehat{f}_1, \\ldots, \\widehat{f}_{N-1}] \n",
    "&= \n",
    "[c_0, c_1, \\ldots, c_n, c_{n+1}, \\ldots, c_{N-1}]\n",
    "\\\\\n",
    "&= [ \\widetilde{c}_0, \\ldots, \\widetilde{c}_n, \\widetilde{c}_{-n}, \\ldots, \\widetilde{c}_{-1}]\n",
    "\\\\\n",
    "&= [\\widehat{f}_0, \\widehat{f}_1, \\ldots, \\widehat{f}_{n}, \\widehat{f}_{-n}, \\ldots, \\widehat{f}_{-1}]\n",
    "\\end{align}"
   ]
  },
  {
   "cell_type": "markdown",
   "metadata": {},
   "source": [
    "For $N = 2n$ we have instead\n",
    "\n",
    "\\begin{align}\n",
    "[\\widehat{f}_0, \\widehat{f}_1, \\ldots, \\widehat{f}_{N-1}] \n",
    "&= \n",
    "[c_0, c_1, \\ldots, c_{n-1}, c_{n}, \\ldots, c_{N-1}]\n",
    "\\\\\n",
    "&= [ \\widetilde{c}_0, \\ldots, \\widetilde{c}_{n-1}, \\widetilde{c}_{-n}, \\ldots, \\widetilde{c}_{-1}]\n",
    "\\\\\n",
    "&= [\\widehat{f}_0, \\widehat{f}_1, \\ldots, \\widehat{f}_{n-1}, \\widehat{f}_{-n}, \\ldots, \\widehat{f}_{-1}]\n",
    "\\end{align}"
   ]
  },
  {
   "cell_type": "markdown",
   "metadata": {},
   "source": [
    "### Real trigonometric interpolation"
   ]
  },
  {
   "cell_type": "markdown",
   "metadata": {},
   "source": [
    "Similar to the different representations of the Fourier series, cf. {ref}`fou:eq:fourier-partial-real`,\n",
    "we sometimes want to represent the trigonometric interpolant in terms of \n",
    "$\\cos$ and $\\sin$ functions. This is particularly useful to arrive at real-valued trigonometric interpolant\n",
    "in the case that the sampled function real-valued."
   ]
  },
  {
   "cell_type": "markdown",
   "metadata": {},
   "source": [
    "To arrive at such a rewrite representation, we proceed \n",
    "exactly in the same way as in the case of the Fourier series:\n",
    "Simply rewrite the complex exponential functions in terms of $\\cos$ and $\\sin$ functions\n",
    "via Euler's formula\n",
    "and collect the terms with the same trigonometric functions.\n",
    "\n",
    "Let's start with the case of an odd $N = 2n + 1$.\n",
    "Then"
   ]
  },
  {
   "cell_type": "markdown",
   "metadata": {},
   "source": [
    "\\begin{align}\n",
    "\\widetilde{q}_N(x) = \\sum_{k=-n}^{n} c_k e^{i 2 \\pi k x/L}\n",
    "&= c_0 + \\sum_{k=1}^{n} c_k e^{i 2 \\pi k x/L} + c_{-k} e^{-i 2 \\pi k x/L}\n",
    "\\\\\n",
    "&= c_0 \n",
    "+ \\sum_{k=1}^{n} c_k \\left( \\cos(2 \\pi k x/L) + i \\sin(2 \\pi k x/L) \\right) \n",
    "\\\\\n",
    "&\\phantom{= c_0}\n",
    "+ \\sum_{k=1}^{n} c_{-k} \\left( \\cos(2 \\pi k x/L) - i \\sin(2 \\pi k x/L) \\right) \n",
    "\\\\\n",
    "&= c_0 \n",
    "+ \\sum_{k=1}^{n} \\left(  (c_k + c_{-k}) \\cos(2 \\pi k x/L) + i(c_k - c_{-k}) \\sin(2 \\pi k x/L) \\right) \n",
    "\\\\\n",
    "&= \\dfrac{a_0}{2} + \\sum_{k=1}^{n} \n",
    "\\left( a_k \\cos(2 \\pi k x/L) + b_k \\sin(2 \\pi k x/L) \\right)\n",
    "\\end{align}"
   ]
  },
  {
   "cell_type": "markdown",
   "metadata": {},
   "source": [
    "where we set $a_k = c_k + c_{-k}$ and $b_k = i(c_k - c_{-k})$.\n"
   ]
  },
  {
   "cell_type": "markdown",
   "metadata": {},
   "source": [
    "For real-valued samples $\\{f_l\\}_{l=0}^{N-1}$, we can now make the following observation:\n",
    "\n",
    "Since $\\overline{f_l} = f_l$ for real-valued $f_l$, we infer that\n",
    "$\\overline{c_k} = c_{-k}$ since\n",
    "$$\n",
    "\\overline{c_k}\n",
    "= \\overline{\\widehat{f}_k}\n",
    "= \\overline{\\frac{1}{N} \\sum_{l=0}^{N-1} f_l \\omega_N^{-lk}}\n",
    "= \\dfrac{1}{N} \\sum_{l=0}^{N-1} f_l \\omega_N^{lk} = \n",
    "\\widehat{f}_{-k} = c_{-k}\n",
    "$$"
   ]
  },
  {
   "cell_type": "markdown",
   "metadata": {},
   "source": [
    "Consequently, \n",
    "\n",
    ":::{math}\n",
    ":nowrap: True\n",
    ":label: fou:eq:real_ak\n",
    "\n",
    "\\begin{align}\n",
    "a_k &= c_k + c_{-k} = c_k + \\overline{c_k} = 2 \\Re(c_k)\n",
    "= 2 \\Re(\\widehat{f}_k) = \n",
    "\\frac{2}{N} \n",
    "\\Re \\left(\n",
    "\\sum_{l=0}^{N-1} f_l \\omega_N^{-lk}\n",
    "\\right)\n",
    "\\\\\n",
    "&=\n",
    "\\frac{2}{N}\n",
    "\\sum_{l=0}^{N-1} f_l \\cos(2 \\pi k l/N)\n",
    "\\frac{2}{N}\n",
    "=\n",
    "\\sum_{l=0}^{N-1} f_l \\cos(2 \\pi k x_l/L)\n",
    "\\end{align}\n",
    ":::\n"
   ]
  },
  {
   "cell_type": "markdown",
   "metadata": {},
   "source": [
    "Similarly, we have that\n",
    "\n",
    "\\begin{align}\n",
    "b_k \n",
    "&= i(c_k - c_{-k}) = i(c_k - \\overline{c_k}) = 2 \\Im(c_k)\n",
    "= 2 \\Im(\\widehat{f}_k) =\n",
    "\\frac{2}{N}\n",
    "\\Im \\left(\n",
    "\\sum_{l=0}^{N-1} f_l \\omega_N^{-lk}\n",
    "\\right)\n",
    "\\\\\n",
    "&=\n",
    "\\frac{2}{N}\n",
    "\\sum_{l=0}^{N-1} f_l \\sin(2 \\pi k l/N)\n",
    "=\n",
    "\\frac{2}{N}\n",
    "\\sum_{l=0}^{N-1} f_l \\sin(2 \\pi k x_l/L)\n",
    "\\end{align}\n"
   ]
  },
  {
   "cell_type": "markdown",
   "metadata": {},
   "source": [
    "Consequently, $a_k$ and $b_k$ are real-valued, and the trigonometric interpolant $\\widetilde{q}_N(x)$\n",
    "is in fact a real-valued trigonometric polynomial for all $x\\in [0,L)$ (and not only for the sampled points $x_l$)!"
   ]
  },
  {
   "cell_type": "markdown",
   "metadata": {
    "vscode": {
     "languageId": "plaintext"
    }
   },
   "source": [
    "For even $N = 2n$, we follow the convention above and we consider again\n",
    "\n",
    "\\begin{align}\n",
    "\\widetilde{q}_N(x) = \n",
    "\\sum_{k=-n}^{n-1} c_k e^{i 2 \\pi k x/L}\n",
    "=\n",
    "+ c_{-n} e^{-i 2 \\pi n x/L}\n",
    "\\sum_{k=-(n-1)}^{n-1} c_k e^{i 2 \\pi k x/L}\n",
    "\\end{align}\n"
   ]
  },
  {
   "cell_type": "markdown",
   "metadata": {},
   "source": [
    "\n",
    "We can rewrite the sum in the second term as above to obtain\n",
    "\n",
    "$$\n",
    "\\widetilde{q}_N(x)\n",
    "= c_{-n} e^{- i 2 \\pi n x/L} \n",
    "+\n",
    "\\dfrac{a_0}{2} + \\sum_{k=1}^{n-1} \n",
    "\\left( a_k \\cos(2 \\pi k x/L) + b_k \\sin(2 \\pi k x/L) \\right)\n",
    "$$\n",
    "As before, we conclude that $a_k$ and $b_k$ are real-valued if $\\{f_l\\}_{l=0}^{N-1}$ are real-valued,\n",
    "and so is the resulting superposition of $\\cos$ and $\\sin$ functions.\n",
    "\n",
    "But what about the term $c_{-n} e^{- i 2 \\pi n x/L}$?"
   ]
  },
  {
   "cell_type": "markdown",
   "metadata": {},
   "source": [
    "First let us observe that the term $c_{-n}$ is in fact real-valued, since (recalling that $N = 2n$)\n",
    "\n",
    "$$\n",
    "c_{-n} = \\dfrac{1}{N} \\sum_{l=0}^{N-1} f_l e^{i 2 \\pi n l/(2n)}\n",
    "=\n",
    " \\dfrac{1}{N} \\sum_{l=0}^{N-1} f_l (-1)^l = \n",
    " \\dfrac{1}{N} \\sum_{l=0}^{N-1} f_l \\cos(2\\pi n l/N)=\n",
    " \\dfrac{1}{N} \\sum_{l=0}^{N-1} f_l \\cos(2\\pi n x_l/L)\n",
    "$$\n",
    "\n",
    "In particular this means, that $\\widetilde{q}_N(x)$ is **not** a purely real-valued trigonometric polynomial, it only \n",
    "happens to be real-valued at the sample points $x_l$! "
   ]
  },
  {
   "cell_type": "markdown",
   "metadata": {},
   "source": [
    "To remedy this situation and obtain a real-valued trigonometric interpolant, we  recall that\n",
    "\n",
    "$$\n",
    "\\Re(\\widetilde{q}_N(x_l)) = \\widetilde{q}_N(x_l)\n",
    "$$\n",
    "must hold for all $0\\leqslant l \\leqslant N-1$ since $\\widetilde{q}_N(x_l) = f_l$ is real-valued.\n",
    "Consequently, we can simply\n",
    "$\\Re(\\widetilde{q}_N(x))$ to find a real-valued trigonometric interpolating polynomial. \n",
    "\n",
    "But since $c_{-n}$ is real-valued, and thus $\\Re(c_{-n} e^{- i 2 \\pi n x/L}) = c_{-n} \\Re( e^{- i 2 \\pi n x/L})$,\n",
    "we see that\n",
    "(after setting $2 a_n := c_{-n}$)\n",
    "\\begin{align}\n",
    "\\Re(\\widetilde{q}_N(x))\n",
    "&= \\Re(\\tfrac{a_n}{2} e^{- i 2 \\pi n x/L})\n",
    "+\n",
    "\\dfrac{a_0}{2} + \\sum_{k=1}^{n-1} \n",
    "\\left( a_k \\cos(2 \\pi k x/L) + b_k \\sin(2 \\pi k x/L) \\right)\n",
    "\\\\\n",
    "&= \\dfrac{a_n}{2} \\cos(2 \\pi n x/L)\n",
    "+\n",
    "\\dfrac{a_0}{2} + \\sum_{k=1}^{n-1} \n",
    "\\left( a_k \\cos(2 \\pi k x/L) + b_k \\sin(2 \\pi k x/L) \\right)\n",
    "\\end{align}\n",
    "is a real-valued trigonometric interpolant of the real-valued function values $f_l$ at the points $x_l$."
   ]
  },
  {
   "cell_type": "markdown",
   "metadata": {},
   "source": [
    "Let us summarize this in the following theorem.\n",
    "\n",
    ":::{prf:theorem} Real trigonometric interpolation\n",
    ":label: fou:thm:real_trig_interp\n",
    "\n",
    "Let $\\{f_l\\}_{l=0}^{N-1}$ be a list of real-valued function values at the points $x_l = l \\frac{L}{N}$, $0\\leqslant l \\leqslant N-1$.\n",
    "Define the coefficients $a_k$ and $b_k$ by\n",
    "\n",
    "$$\n",
    "a_k = \\sum_{l=0}^{N-1} f_l \\cos(2 \\pi k x_l/L), \\quad\n",
    "b_k = \\sum_{l=0}^{N-1} f_l \\sin(2 \\pi k x_l/L). \n",
    "$$\n",
    "\n",
    "If $N = 2n + 1$ is odd, then the real-valued trigonometric polynomial $p_n(x)$ of order $n$ given by\n",
    "\n",
    "$$\n",
    "p_n(x) =\n",
    "\\dfrac{a_0}{2} + \\sum_{k=1}^{n} \n",
    "\\left( a_k \\cos(2 \\pi k x/L) + b_k \\sin(2 \\pi k x/L) \\right)\n",
    "$$ (fou:eq:real_trig_poly_odd)\n",
    "\n",
    "satisfies $f_l = p_n(x_l)$ for $0\\leqslant l \\leqslant N-1$.\n",
    "\n",
    "If $N = 2n$ is even on the other hand,\n",
    "then the real-valued interpolating trigonometric polynomial $p_n(x)$ of order $n$ given by\n",
    "\n",
    "$$\n",
    "p_n(x) =\n",
    "\\dfrac{a_0}{2} + \\sum_{k=1}^{n-1} \n",
    "\\left( a_k \\cos(2 \\pi k x/L) + b_k \\sin(2 \\pi k x/L) \\right)\n",
    "+ \\dfrac{a_n}{2} \\cos(2 \\pi n x/L).\n",
    "$$ (fou:eq:real_trig_poly_even)\n",
    "\n",
    ":::"
   ]
  },
  {
   "cell_type": "markdown",
   "metadata": {},
   "source": [
    "### Best approximation properties\n",
    "\n",
    ":::{warning}\n",
    "This section is still work in progress and not ready for reading.\n",
    ":::\n",
    "\n",
    ":::{admonition} TODO\n",
    ":class: danger dropdown \n",
    "Discuss best approximation properties of the truncated trigonometric polynomial \n",
    "$$\n",
    "q_m(x) = \\sum_{k=0}^{m-1} \\widehat{f}_k \\omega^k(x)\n",
    "$$\n",
    "which does not interpolate the function values $f_l$ but\n",
    "provide the best approximation in the sense of the discrete $l^2$-norm.\n",
    ":::"
   ]
  }
 ],
 "metadata": {
  "jupytext": {
   "formats": "ipynb,md:myst"
  },
  "kernelspec": {
   "display_name": "tma4320_scientific_computation-vlMPykwy",
   "language": "python",
   "name": "python3"
  },
  "language_info": {
   "codemirror_mode": {
    "name": "ipython",
    "version": 3
   },
   "file_extension": ".py",
   "mimetype": "text/x-python",
   "name": "python",
   "nbconvert_exporter": "python",
   "pygments_lexer": "ipython3",
   "version": "3.13.2"
  }
 },
 "nbformat": 4,
 "nbformat_minor": 4
}
