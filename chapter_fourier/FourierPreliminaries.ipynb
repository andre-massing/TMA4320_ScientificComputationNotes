{
 "cells": [
  {
   "cell_type": "markdown",
   "metadata": {},
   "source": [
    "# The Discrete Fourier transform and its applications"
   ]
  },
  {
   "cell_type": "markdown",
   "metadata": {},
   "source": [
    "## Complex numbers\n",
    "\n",
    "First we recall some fundamental concepts, ideas and identities from  [Matte 4K](https://wiki.math.ntnu.no/tma4120/2024h/tempoplan), see in particular\n",
    "week 35 - week 38. \n",
    "\n",
    "[Complex numbers] : $z = a + bi$ where $a$ and $b$ are real numbers and $i = \\sqrt{-1}$ is the imaginary unit.\n",
    " \n",
    "[Complex conjugate] : of $z$ is $\\bar{z} = a - bi$.\n",
    "\n",
    "[Euler's formula] : $e^{i\\theta} = \\cos \\theta + i\\sin\\theta$.\n",
    "\n",
    "[Polar form] : $z = x + iy = r e^{i\\theta}$ where $r = |z| = \\sqrt{x^2+y^2}$ is the **magnitude and $\\theta = \\arg z = \\arctan(y/x)$\n",
    "is the  **argument** or **phase**.\n"
   ]
  },
  {
   "cell_type": "code",
   "execution_count": null,
   "metadata": {},
   "outputs": [],
   "source": [
    "# TODO: Present operation of complex numbers in Python\n",
    "z1 = complex(1,2)\n",
    "print(z1)\n",
    "z2 = 1 + 2j\n",
    "print(z2)\n"
   ]
  },
  {
   "cell_type": "markdown",
   "metadata": {},
   "source": [
    "## Complex inner product spaces and orthogonal systems\n",
    "\n",
    ":::{prf:definition} Complex inner product space\n",
    ":labeled: fou:def:inner\n",
    "\n",
    "Let  $V$ be a complex vector space. An inner product on $V$ is a function $\\langle \\cdot, \\cdot \\rangle : V \\times V \\to \\mathbb{C}$ that satisfies the following properties for all $f,g,h \\in V$ and all $\\alpha,\\beta \\in \\mathbb{C}$:\n",
    "\n",
    "1. **Linearity in the first argument:**\n",
    "$$\n",
    "\\langle \\alpha f + \\beta g, h \\rangle = \\alpha \\langle f,h \\rangle + \\beta \\langle g,h \\rangle.\n",
    "$$\n",
    "\n",
    "2. **Conjugate symmetry:**\n",
    "$$\n",
    "\\langle f,g \\rangle = \\overline{\\langle g,f \\rangle}.\n",
    "$$\n",
    "\n",
    "3. **Positive definiteness:**\n",
    "$$\n",
    "\\langle f,f \\rangle \\geq 0,\n",
    "$$\n",
    "with equality if and only if $f = 0$.\n",
    "\n",
    "As with all inner product spaces, a norm by\n",
    "\n",
    "$$\n",
    "\\|f\\| = \\sqrt{\\langle f,f \\rangle}.\n",
    "$$ (fou:eq:def:norm)\n",
    "\n",
    "and we have the Cauchy-Schwarz inequality\n",
    "\n",
    "$$\n",
    "|\\langle f,g \\rangle| \\leqslant \\|f\\| \\|g\\|.\n",
    "$$ (fou:eq:cauchy)\n",
    "\n",
    ":::\n",
    "\n",
    "For an inner product space, the Cauchy-Schwarz inequality holds\n",
    "$$ \n",
    "|\\langle f,g \\rangle| \\leqslant \\|f\\| \\|g\\| \n",
    "$$\n",
    "and equality holds if and only if $f$ and $g$ are linearly dependent.\n",
    "\n",
    ":::{prf:definition} Orthogonal system\n",
    ":labeled: fou:def:ortho-syst \n",
    "\n",
    "A sequences/family $\\{\\phi_n\\}_{n\\in \\mathbb{N}}$ of non-zero vectors $\\phi_n$ in a complex inner product space $V$ is said to be **orthogonal** if \n",
    "$$\n",
    "\\langle \\phi_n, \\phi_m \\rangle = 0, \\quad n \\neq m.\n",
    "$$\n",
    "\n",
    "If in addition $\\|\\phi_n\\| = 1$ for all $n$, then the system is said to be **orthonormal**.\n",
    "\n",
    ":::\n",
    "\n"
   ]
  },
  {
   "cell_type": "markdown",
   "metadata": {},
   "source": [
    "For a given interval $[a,b]$, we define the set of square-integrable, possibly complex-valued function $L^2(I)$ by \n",
    "\n",
    "$$\n",
    "L^2(I) = \\left\\{ f: I \\to \\mathbb{C} \\mid \\int_I |f(x)|^2 dx < \\infty \\right\\}.\n",
    "$$ (fou:eq:def:L2)\n",
    "\n",
    "Here, the interval $I$ can be either finite, semi-infinite or infinite, i.e., the end point choices $a = -\\infty$ and/or $b=\\infty$ are allowed.\n",
    "\n",
    "For $f,g \\in L^2(I)$, an inner product is defined by\n",
    "\n",
    "$$\n",
    "\\langle f,g \\rangle = \\int_I f(x) \\bar{g}(x) dx.\n",
    "$$ (fou:eq:def:inner)\n",
    "\n",
    "From hereon, we think of $L^2(I)$ as a inner product space equipped with the inner product defined by {eq}`fou:eq:def:inner`.\n"
   ]
  },
  {
   "cell_type": "markdown",
   "metadata": {},
   "source": [
    "Set $[a,b] = [-\\pi, \\pi]$. We have the following orthogonal systems in $L^2([-\\pi,\\pi])$.\n",
    "\n",
    ":::{prf:example}  \n",
    ":label: four:exa:ortho-complex\n",
    "\n",
    "The set of functions $\\{e^{inx}\\}_{n \\in \\mathbb{Z}}$ is an orthogonal system in $L^2([-\\pi,\\pi])$.\n",
    "Correspondingly, the set $\\{e^{inx}/\\sqrt{2\\pi}\\}_{n \\in \\mathbb{Z}}$ is an orthonormal system in $L^2([-\\pi,\\pi])$.\n",
    "\n",
    "The set of functions \n",
    "\n",
    "$$\n",
    "\\{e^{inx}\\}_{n \\in \\mathbb{Z}} \\quad \\text{and} \\quad \\{e^{inx}/\\sqrt{2\\pi}\\}_{n \\in \\mathbb{Z}}\n",
    "$$ are orthogonal and orthonormal system in $L^2([-\\pi,\\pi])$, respectively.\n",
    "\n",
    ":::"
   ]
  },
  {
   "cell_type": "markdown",
   "metadata": {},
   "source": [
    ":::{prf:example}  \n",
    ":label: four:exa:ortho-real\n",
    "\n",
    "The set of functions \n",
    "$$\n",
    "\\{1\\} \\cup \\{\\cos(nx)\\}_{n=1}^\\infty \\cup \\{\\sin(nx)\\}_{n=1}^\\infty \\quad \\text{and} \\quad \\{1/\\sqrt{2\\pi}\\} \\cup \\{\\cos(nx)/\\sqrt{\\pi}\\}_{n=1}^\\infty \\cup \\{\\sin(nx)/\\sqrt{\\pi}\\}_{n=1}^\\infty\n",
    "$$ \n",
    "are orthogonal and orthonormal systems in $L^2([-\\pi,\\pi])$, respectively.\n",
    "\n",
    ":::"
   ]
  },
  {
   "cell_type": "markdown",
   "metadata": {},
   "source": [
    "\n",
    "## Fouries series\n",
    "\n",
    "Let's consider a periodic function $f(x)$ with period $2\\pi$, i.e., $f(x+2\\pi) = f(x)$ for all $x$.\n",
    "Then the formal **complex** Fourier series of $f(x)$ is given by\n",
    "\n",
    "$$\n",
    "f(x) = \\sum_{k=-\\infty}^{\\infty} c_k e^{i k x}\n",
    "$$ (fou:eq:fourier-series)\n",
    "\n",
    "where $\\{c_k\\}_{k\\in\\mathbb{Z}}$ are the Fourier coefficients given by\n",
    "\n",
    "$$\n",
    "c_k = \\frac{1}{2\\pi} \\int_{-\\pi}^{\\pi} f(x) e^{-i k x} \\, d\\mathrm{x}\n",
    "$$ (fou:eq:fourier-coeff)\n"
   ]
  },
  {
   "cell_type": "markdown",
   "metadata": {},
   "source": [
    "We denote by $S_N(f,x)$ the $N$-th partial sum of the Fourier series of $f(x)$, i.e.,\n",
    "\n",
    "$$\n",
    "S_N(f,x) = \\sum_{k=-N}^{N} c_k e^{i k x}.\n",
    "$$ (fou:eq:fourier-partial)\n"
   ]
  },
  {
   "cell_type": "markdown",
   "metadata": {},
   "source": [
    "\n",
    "We set $L^2_p([-\\pi,\\pi])$ to be the set of periodic functions with period $2\\pi$ \n",
    "which are square-integrable over some (and thus any) interval $[a, a+2\\pi]$ of length $2\\pi$.\n"
   ]
  }
 ],
 "metadata": {
  "kernelspec": {
   "display_name": "tma4320-scientific-computation-N8ZZLP_7",
   "language": "python",
   "name": "python3"
  },
  "language_info": {
   "codemirror_mode": {
    "name": "ipython",
    "version": 3
   },
   "file_extension": ".py",
   "mimetype": "text/x-python",
   "name": "python",
   "nbconvert_exporter": "python",
   "pygments_lexer": "ipython3",
   "version": "3.12.3"
  }
 },
 "nbformat": 4,
 "nbformat_minor": 2
}
