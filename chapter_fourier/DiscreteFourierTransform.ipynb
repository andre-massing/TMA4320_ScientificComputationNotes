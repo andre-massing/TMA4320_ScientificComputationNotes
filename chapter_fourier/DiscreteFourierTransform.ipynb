{
 "cells": [
  {
   "cell_type": "markdown",
   "metadata": {},
   "source": [
    "## The discrete Fourier transform"
   ]
  },
  {
   "cell_type": "markdown",
   "metadata": {},
   "source": [
    "### Motivation\n",
    "\n",
    "Let's assume we have an $L$-periodic function $f(x)$, which is defined on the interval $[0, L)$.\n",
    "We define the $N$ equidistant points on this interval as $x_k = k \\frac{L}{N}$, where $k = 0, 1, \\ldots, N-1$ with corresponding function values $f_k = f(x_k)$.\n",
    "\n",
    "Based on the points $x_k$ and sampled function values $f_k$ we now want to compute/approximate the Fourier series for the function $f(x)$.\n",
    "As we have $N$ sampling points, it seems natural to compute $N$ Fourier coefficients $c_k(f)$ for the Fourier series expansion of $f(x)$. \n",
    "To compute the integrals for the Fourier coefficients, we recall the definition of\n",
    "the **composite trapezoidal rule** to approximate integrals. \n",
    "For a given $L$-periodic $g(x)$, the integral of $g(x)$ over the interval $[0, L)$ can be approximated by\n",
    "\n",
    "\\begin{align}\n",
    "\\int_0^L g(x) \\, dx \n",
    "&\\approx \\frac{L}{N} \\left( \\frac{g_0}{2} + g_1 + g_2 + \\ldots + g_{N-1} + \\frac{g_N}{2} \\right) \n",
    "\\\\\n",
    "&= \\frac{L}{N} \\left( {g_0} + g_1 + g_2 + \\ldots + g_{N-1} \\right) \n",
    "\\end{align}\n",
    "where we set $g_k = g(x_k)$ and used the fact that $g_0 = g_N$ for $L$-periodic functions.\n",
    "\n",
    "We apply this formula to approximate the Fourier coefficients $c_k(f)$ of the function $f(x)$:\n",
    "\n",
    "\\begin{align}\n",
    "c_k(f) = \\widehat{f}(n)\n",
    "&= \\frac{1}{L} \\int_0^L f(x) e^{-i 2 \\pi k x/L} \\, dx\n",
    "\\\\\n",
    "&\\approx \\frac{1}{N} \n",
    "\\sum_{l=0}^{N-1} f_l e^{-i 2 \\pi k x_l / L}\n",
    "\\\\\n",
    "&= \\frac{1}{N}\n",
    "\\sum_{l=0}^{N-1} f_l e^{-i 2 \\pi k l / N}\n",
    "\\\\\n",
    "&=\\frac{1}{N}\\sum_{l=0}^{N-1} f_k \\omega_N^{-k l}\n",
    "\\end{align}"
   ]
  },
  {
   "cell_type": "markdown",
   "metadata": {},
   "source": [
    ":::{prf:definition} Discrete Fourier transform\n",
    ":label: fou:def:dft\n",
    "\n",
    "The discrete Fourier transform (DFT) of a sequence $\\boldsymbol{f} = \\{f_0, f_1, \\ldots, f_{N-1}\\} \\in \\mathbb{C}^N$ is itself a sequence $\\widehat{\\boldsymbol{f}} = \\{\\widehat{f}_0, \\widehat{f}_1, \\ldots, \\widehat{f}_{N-1}\\} \\in \\mathbb{C}^N$ defined by\n",
    "$$  \\widehat{f}_k = \\frac{1}{N} \\sum_{l=0}^{N-1} f_l \\omega_N^{-l k}, $$\n",
    "where $\\omega_N = e^{-i 2 \\pi / N}$.\n",
    "\n",
    ":::\n",
    "\n",
    "In matrix notation, the DFT can be written as\n",
    "$$ \\widehat{\\boldsymbol{f}} = \\mathcal{F}_N \\boldsymbol{f} $$\n",
    "where $\\mathcal{F}_N$ is the (symmetric!) Fourier matrix with elements $F_{k,l} = \\omega_N^{-k l}$, i.e.\n",
    "$$\n",
    "\\mathcal{F}_N = \\frac{1}{N} \\begin{pmatrix}\n",
    "1 & 1 & 1 & \\cdots & 1 \\\\\n",
    "1 & \\omega_N^{-1} & \\omega_N^{-2} & \\cdots & \\omega_N^{-(N-1)} \\\\\n",
    "1 & \\omega_N^{-2} & \\omega_N^{-4} & \\cdots & \\omega_N^{-2(N-1)} \\\\\n",
    "\\vdots & \\vdots & \\vdots & \\ddots & \\vdots \\\\\n",
    "1 & \\omega_N^{-(N-1)} & \\omega_N^{-2(N-1)} & \\cdots & \\omega_N^{-(N-1)(N-1)}\n",
    "\\end{pmatrix}\n",
    "$$"
   ]
  },
  {
   "cell_type": "markdown",
   "metadata": {},
   "source": [
    "<!-- :::{admonition} TODO\n",
    ":class: danger\n",
    "\n",
    "Explain typical frequency choices for the DFT, namelye $-N/2, \\ldots, N/2-1$ for even $N$ and $-N/2, \\ldots, N/2$ for odd $N$ and typical order of frequencies,\n",
    "namely $0, 1, \\ldots, N/2-1, -N/2, \\ldots, -1$ for even $N$ and $0, 1, \\ldots, N/2, -N/2, \\ldots, -1$ for odd $N$.\n",
    "\n",
    ":::\n",
    "\n",
    ":::{admonition} TODO\n",
    ":class: danger \n",
    "\n",
    "Show orthogonality of the Fourier matrix and $\\omega_N^k$.\n",
    "\n",
    "::: -->"
   ]
  },
  {
   "cell_type": "markdown",
   "metadata": {},
   "source": [
    "### Discrete inner products and orthogonality systems\n",
    "\n",
    "The approximation of the Fourier coefficients $c_k(f)$ by the DFT can be interpreted as a discrete inner product of the function values $ f(x_k) = f_k$ with the complex exponentials $e^{-i 2 \\pi k l / N} = \\omega_N^{-kl}$.\n",
    "To facilitate the analysis of the DFT, we introduce the following discrete inner product.\n"
   ]
  },
  {
   "cell_type": "markdown",
   "metadata": {},
   "source": [
    "\n",
    ":::{prf:definition} Discrete inner product\n",
    ":label: fou:def:inner_product\n",
    "For two complex sequences $\\boldsymbol{f} = \\{f_0, f_1, \\ldots, f_{N-1}\\} \\in \\mathbb{C}$ and $\\boldsymbol{g} = \\{g_0, g_1, \\ldots, g_{N-1}\\} \\in \\mathbb{C}$, the discrete inner product is defined as\n",
    "\n",
    "$$ \n",
    "\\langle \\boldsymbol{f}, \\boldsymbol{g} \\rangle_N \n",
    "=  \\dfrac{1}{N}\\sum_{l=0}^{N-1} f_l \\overline{g_l} \n",
    "$$ (fou:eq:disc_inner_product)\n",
    "\n",
    "where $\\overline{g_l}$ denotes the complex conjugate of $g_l$.\n",
    "\n",
    ":::"
   ]
  },
  {
   "cell_type": "markdown",
   "metadata": {},
   "source": [
    "As before, we assume that we have a sequence of $N$ equidistant points $x_k = k \\frac{L}{N}$ on the interval $I = [0, L)$.\n",
    " <!-- with corresponding function values $f_k = f(x_k)$ and $g_k = g(x_k)$. -->\n",
    "For the given interval $I$, let us now again consider the complex exponential functions $\\omega^l(x) := e^{i 2 \\pi l x/L}$, $l \\in \\mathbb{Z}$.\n",
    "Previously, we have seen that these functions form an orthogonal system with respect to the continuous inner product $\\langle f, g \\rangle = \\int_0^L f(x) \\overline{g(x)} \\, dx$.\n",
    "Funnily enough, these functions satisfy a very similar orthogonality property with respect to the discrete inner product:\n",
    "\n",
    ":::{prf:theorem} Orthogonality of complex exponentials\n",
    ":label: fou:thm:orthogonality   \n",
    "$$\n",
    "\\langle \\omega^l, \\omega^m \\rangle_N \n",
    "=\n",
    "\\begin{cases}\n",
    "1 & \\text{if } (l-m)/N \\in \\mathbb{Z}, \\\\\n",
    "0 & \\text{else.}\n",
    "\\end{cases}\n",
    "$$\n",
    "\n",
    "Before we turn to the proof of this theorem, we make the very important observation that the evaluation of $\\omega_l(x)$ at the points $x_k$ is given by the $k$-th power of the $l$-th $N$-th root of unity $\\omega_N = e^{i 2 \\pi l / N}$, i.e.\n",
    "$\\omega_l(x_k) = e^{i 2 \\pi l k / N} = \\omega_N^{lk}$,\n",
    "or in other words\n",
    "$$\n",
    "(\\omega^l(x_k))_{k=0}^{N-1} = (\\omega_N^{lk})_{k=0}^{N-1} =\n",
    " (1, \\omega_N^l, \\omega_N^{2l}, \\ldots, \\omega_N^{(N-1)l}).\n",
    "$$ (four:eq:nth_root_vectors)\n"
   ]
  },
  {
   "cell_type": "markdown",
   "metadata": {},
   "source": [
    ":::{prf:proof} \n",
    "\n",
    "First we recall a fundamental identity for geometric sums, namely that for any given $q\\neq 1$, we have\n",
    "$$\n",
    "\\sum_{k=0}^{N-1} q^{N-1} = \\frac{1-q^N}{1-q}.\n",
    "$$\n",
    "For two complex exponentials $\\omega^l$ and $\\omega^m$, we compute the discrete inner product \n",
    "\\begin{align}\n",
    "N \\langle \\omega^l, \\omega^m \\rangle_N \n",
    "&= \\sum_{k=0}^{N-1} \\omega^{l}(x_k) \\overline{\\omega^{m}(x_k)}\n",
    "\\\\\n",
    "&= \\sum_{k=0}^{N-1} \\omega_N^{lk} \\omega_N^{-mk}\n",
    "\\\\\n",
    "&= \\sum_{k=0}^{N-1} (\\omega_N^{l-m})^k \n",
    "\\end{align}\n",
    "If $l-m = p N$ for some $p \\in \\mathbb{Z}$, then $\\omega_N^{l-m} = e^{i 2\\pi (l-m)/N} = e^{i 2 \\pi p} = 1$ and the sum evaluates to $N$.\n",
    "Otherwise we use the geometric sum identity to obtain\n",
    "$$\n",
    "\\sum_{k=0}^{N-1} (\\omega_N^{l-m})^k  \n",
    "= \\frac{1 - \\omega_N^{(l-m)N}}{1 - \\omega_N^{l-m}} \n",
    "= \\frac{1 - e^{i 2\\pi(l-m)}}{1 - \\omega_N^{l-m}}  = 0.\n",
    "$$\n",
    "\n",
    ":::"
   ]
  },
  {
   "cell_type": "markdown",
   "metadata": {},
   "source": [
    "Let us record a number of important consequences of this orthogonality property.\n",
    "\n",
    ":::{prf:corollary} \n",
    ":label: fou:cor:orthogonality\n",
    "\n",
    "1. For $0\\leqslant l, m \\leqslant N-1$, the complex exponentials $\\omega^l$ and $\\omega^m$ are orthonormal with respect to the discrete inner product\n",
    "$$\n",
    "\\langle \\omega^l, \\omega^m \\rangle_N = \\delta_{l m} \n",
    "$$.\n",
    "Equivalently, the vectors\n",
    "$$\n",
    "(\\omega^l(x_k))_{k=0}^{N-1} = (\\omega_N^{lk})_{k=0}^{N-1} =\n",
    " (1, \\omega_N^l, \\omega_N^{2l}, \\ldots, \\omega_N^{(N-1)l})\n",
    "$$ \n",
    "are orthonormal with respect to the discrete inner product.\n",
    "\n",
    "2. The numerical quadrature rule \n",
    "$$\n",
    "\\int_0^L f(x) \\, dx \\approx \\frac{L}{N} \\sum_{k=0}^{N-1} f(x_k)\n",
    "$$\n",
    "is in fact exact for the integration of the complex exponential functions $\\omega^l(x)$\n",
    "for $0\\leqslant l \\leqslant N-1$. Moreover, the quadrature rule is exact for the integration \n",
    "for $\\sin(\\pm 2\\pi N/L x)$ but not for $\\cos(\\pm 2\\pi N/L x)$.\n",
    ":::\n"
   ]
  },
  {
   "cell_type": "markdown",
   "metadata": {},
   "source": [
    "\n",
    ":::{exercise}\n",
    ":label: fou:ex:exact_integration\n",
    "Prove the last statement using the the discrete orthogonality of the complex exponentials.\n",
    ":::\n"
   ]
  },
  {
   "cell_type": "markdown",
   "metadata": {},
   "source": [
    "We can use these observations to show the the matrix associated with the discrete Fourier transform in invertible and to compute its inverse.\n",
    "\n",
    ":::{prf:theorem}\n",
    ":label: fou:prop:inverse_dft\n",
    "\n",
    "The matrix of the DFT is invertible and its inverse $\\mathcal{F}^{-1}_N$\n",
    "is given by\n",
    "$$\n",
    "\\mathcal{F}^{-1}_N = \\begin{pmatrix}\n",
    "1 & 1 & 1 & \\cdots & 1 \\\\\n",
    "1 & \\omega_N^{1} & \\omega_N^{2} & \\cdots & \\omega_N^{(N-1)} \\\\\n",
    "1 & \\omega_N^{2} & \\omega_N^{4} & \\cdots & \\omega_N^{2(N-1)} \\\\\n",
    "\\vdots & \\vdots & \\vdots & \\ddots & \\vdots \\\\\n",
    "1 & \\omega_N^{(N-1)} & \\omega_N^{2(N-1)} & \\cdots & \\omega_N^{(N-1)(N-1)}\n",
    "\\end{pmatrix}\n",
    "$$\n",
    "\n",
    ":::"
   ]
  },
  {
   "cell_type": "markdown",
   "metadata": {},
   "source": [
    ":::{prf:proof}\n",
    "We simply compute the product of the DFT matrix $\\mathcal{F}_N$ and its inverse $\\mathcal{F}^{-1}_N$:\n",
    "\n",
    "\\begin{align}\n",
    "(\\mathcal{F}^{-1}_N \\mathcal{F}^{}_N)_{l, m}\n",
    "= \n",
    "\\sum_{k=0}^{N-1}F^{-1}_{l, k} F_{k, m} \n",
    "= \n",
    "\\dfrac{1}{N}\\sum_{k=0}^{N-1} \\omega_N^{lk} \\omega_N^{-km} \n",
    "=\n",
    "\\langle \\omega^l, \\omega^m \\rangle_N \n",
    "= \\delta_{l m}\n",
    "\\end{align}\n",
    "\n",
    ":::"
   ]
  },
  {
   "cell_type": "markdown",
   "metadata": {},
   "source": [
    "This gives rise to the following definition of the inverse DFT.\n",
    "\n",
    ":::{prf:definition} Inverse discrete Fourier transform\n",
    ":label: fou:def:idft\n",
    "\n",
    "The inverse discrete Fourier transform (IDFT) of a sequence $\n",
    "\\boldsymbol{c} = \\{c_0, c_1, \\ldots, c_{N-1}\\} \\in \\mathbb{C}^N$ is itself a sequence ${\\boldsymbol{f}} = \\{{f}_0, {f}_1, \\ldots, {f}_{N-1}\\} \\in \\mathbb{C}^N$ defined by\n",
    "\n",
    "$$  \n",
    "{f}_l = \\sum_{k=0}^{N-1} c_k \\omega_N^{lk}\n",
    "$$ (fou:eq:idft-def)\n",
    "\n",
    ":::\n"
   ]
  },
  {
   "cell_type": "markdown",
   "metadata": {},
   "source": [
    "\n",
    ":::{admonition} Important note!\n",
    ":class: danger\n",
    "There a lot of different conventions for the normalization of the DFT and the IDFT.\n",
    "Another common one is to use the normalization factor $1/\\sqrt{N}$ for both the DFT and the IDFT,\n",
    "since the columns (respectively rows) of the resulting matrices are then orthonormal,\n",
    "and hence they unitary, i.e.\n",
    "$\\mathcal{F}_N^* \\mathcal{F}_N = \\overline{\\mathcal{F}_N}^{\\top} \\mathcal{F}_N = \\mathcal{I}$.\n",
    "Another common convention is to use the normalization factor $1/N$ for the IDFT and $1$ for the DFT.\n",
    "And sometimes, even the sign in complex exponential is changed!\n",
    "\n",
    "As a consequence, you should always check the normalization conventions both in the used in the \n",
    "in the literature or in software packages!\n",
    "In ```scipy.fft``` module which we will use later, the function which computes the DFT has an optional flag to switch between the different conventions.\n",
    "\n",
    ":::"
   ]
  },
  {
   "cell_type": "markdown",
   "metadata": {},
   "source": [
    "### Trigonometric interpolation "
   ]
  },
  {
   "cell_type": "markdown",
   "metadata": {},
   "source": [
    "As usual, we start from a given interval $I=[0, L)$ and $N$ equidistant points $x_k = k \\frac{L}{N}$, $k=0, 1, \\ldots, N-1$.\n",
    "For a given list of sampled function values $f_l = f(x_l)$, $0\\leqslant l \\leqslant N-1$,\n",
    "we  now want to consider  \n",
    "the problem of finding a trigonometric polynomial $q(x)$ of the form\n",
    "\n",
    "$$\n",
    "q(x) = \\sum_{k=0}^{N-1} c_k e^{i 2 \\pi k x/L}\n",
    "= \\sum_{k=0}^{N-1} c_k \\omega^{k}(x)\n",
    "$$ (fou:eq:trig_poly)\n",
    "\n",
    "which interpolates the function values $f_l$ at the points $x_l$, i.e.\n",
    "\n",
    "$$\n",
    "q(x_l) = f_l, \\quad 0\\leqslant l \\leqslant N-1.\n",
    "$$ (fou:eq:trig_interp-prob)\n"
   ]
  },
  {
   "cell_type": "markdown",
   "metadata": {},
   "source": [
    "Similar to the Vandermonde matrix for polynomial interpolation, we can set up a linear system for the coefficients $c_k$:\n",
    "\n",
    "$$\n",
    "f_l = q(x_l) \n",
    "= \\sum_{k=0}^{N-1} c_k \\omega^{k}(x_l) \n",
    "= \\sum_{k=0}^{N-1} c_k \\omega_N^{kl}, \\quad 0\\leqslant l \\leqslant N-1. \n",
    "$$"
   ]
  },
  {
   "cell_type": "markdown",
   "metadata": {},
   "source": [
    "Aha! This is exactly what we have seen in the definition on the inverse DFT,\n",
    "only that we now want to find the coefficients $c_k$ for a given set of function values $f_l$.\n",
    "But since the inverse DFT is invertible, and its inverse is given by the DFT matrix, we see\n",
    "that there is a unique solution for the coefficients $c_k$. We record this observation in the following theorem.\n"
   ]
  },
  {
   "cell_type": "markdown",
   "metadata": {},
   "source": [
    ":::{prf:theorem} Trigonometric interpolation problem\n",
    ":label: fou:thm:trig_interp\n",
    "\n",
    "There exists a unique trigonometric polynomial $q(x)$ of the form\n",
    "{eq}`fou:eq:trig_poly` which solves the interpolation problem {eq}`fou:eq:trig_interp-prob`,\n",
    "and the coefficients $c_k$ are given by the DFT of the sample  vector $\\{f_l\\}_{l=0}^{N-1}$, i.e.\n",
    "$$\n",
    "  c_k = \\widehat{f}_k = \\frac{1}{N} \\sum_{l=0}^{N-1} f_l \\omega_N^{-l k}.\n",
    "$$\n",
    "\n",
    "The trigonometric polynomial $q(x)$ is called the **trigonometric interpolant** of the function values $f_l$ at the points $x_l$. \n",
    "\n",
    ":::"
   ]
  },
  {
   "cell_type": "markdown",
   "metadata": {},
   "source": [
    ":::{admonition} TODO\n",
    ":class: danger dropdown \n",
    "Discuss best approximation properties of the truncated trigonometric polynomial \n",
    "$$\n",
    "q_m(x) = \\sum_{k=0}^{m-1} \\widehat{f}_k \\omega^k(x)\n",
    "$$\n",
    "which does not interpolate the function values $f_l$ but\n",
    "provide the best approximation in the sense of the discrete $l^2$-norm.\n",
    ":::"
   ]
  },
  {
   "cell_type": "markdown",
   "metadata": {},
   "source": [
    "Often it desirable to compute a trigonmetric interpolating polynomial\n",
    "which frequencies are centered around $0$.\n",
    "\n",
    "More precisely, assuming that $N = 2n + 1$ is odd, we wish to find a polynomial $\\tilde{q}(x)$ of the form\n",
    "$$\n",
    "\\tilde{q}(x) = \\sum_{k=-n}^{n} \\tilde{c}_k \\omega^{k}(x)\n",
    "$$\n",
    "which satisfies the interpolation conditions $\\tilde{q}(x_l) = f_l$ for $0\\leqslant l \\leqslant N-1$."
   ]
  },
  {
   "cell_type": "markdown",
   "metadata": {},
   "source": [
    "This one can in fact easily constructed from $q(x)$ respectively the coefficients $c_k$ as we will see now. We recall that $q(x)$ for $ 0\\leqslant l \\leqslant N-1$\n",
    "satisfies  \n",
    "\n",
    "\\begin{align}\n",
    "f_l = q(x_l) \n",
    "&= \\sum_{k=0}^{N-1} c_k \\omega_N^{kl}\n",
    "\\\\\n",
    "&= \\sum_{k=0}^{n} c_k \\omega_N^{kl}\n",
    "+\\sum_{k=n+1}^{N-1} c_k \\omega_N^{kl}\n",
    "\\end{align}\n"
   ]
  },
  {
   "cell_type": "markdown",
   "metadata": {},
   "source": [
    "\n",
    "Now we simply shift the index in the second sum by $-N$\n",
    "and use the periodicity of the $N$-th roots of unity $\\omega_N^{k+N} = \\omega_N^k$\n",
    "to see that\n",
    "\n",
    "\\begin{align}\n",
    "q(x_l) \n",
    "&= \\sum_{k=0}^{n} c_k \\omega_N^{kl}\n",
    "+\\sum_{k=-n}^{-1} c_{k+N} \\omega_N^{(k+N)l}\n",
    "\\\\\n",
    "&= \\sum_{k=0}^{n} c_k \\omega_N^{kl}\n",
    "+\\sum_{k=-n}^{-1} c_{k+N} \\omega_N^{k}\n",
    "= \\sum_{k=-n}^{n} \\widetilde{c}_k \\omega_N^{kl}\n",
    "\\end{align}\n",
    "where we set\n",
    "$$\n",
    "\\widetilde{c}_k =\n",
    "\\begin{cases}\n",
    "c_k & \\text{for } 0\\leqslant k \\leqslant n, \\\\\n",
    "c_{k+N} & \\text{for } -n \\leqslant k \\leqslant -1.\n",
    "\\end{cases}\n",
    "$$"
   ]
  },
  {
   "cell_type": "markdown",
   "metadata": {},
   "source": [
    "Since $\\omega_N^{kl} = \\omega^k(x_l)$ we see that\n",
    "$$\n",
    "\\tilde{q}(x) = \\sum_{k=-n}^{n} \\widetilde{c}_k \\omega^k(x)\n",
    "\\tilde{q}(x) = \\sum_{k=-(N-1)/2}^{(N-1)/2} \\widetilde{c}_k \\omega^k(x)\n",
    "$$\n",
    "satisfies the interpolation conditions $\\tilde{q}(x_l) = f_l$ for $0\\leqslant l \\leqslant N-1$."
   ]
  },
  {
   "cell_type": "markdown",
   "metadata": {},
   "source": [
    ":::{note}\n",
    "This resembles more closely the form of the truncated complex Fourier series\n",
    "for an $L$ periodic function $f$,\n",
    "$$\n",
    "f \\sim \\sum_{k=-n}^{n} \\widehat{f}(k) e^{i2\\pi x/L}\n",
    "$$\n",
    ":::"
   ]
  },
  {
   "cell_type": "markdown",
   "metadata": {},
   "source": [
    "For even $N = 2n$, we can follow the same line of thoughts to see\n",
    "that with\n",
    "$$\n",
    "\\widetilde{c}_k =\n",
    "\\begin{cases}\n",
    "c_k & \\text{for } 0\\leqslant k \\leqslant n-1, \\\\\n",
    "c_{k+N} & \\text{for } -n \\leqslant k \\leqslant -1.\n",
    "\\end{cases}\n",
    "$$\n",
    "the polynomial\n",
    "$$\n",
    "\\tilde{q}(x) = \\sum_{k=-n}^{n-1} \\widetilde{c}_k \\omega^k(x)\n",
    "\\tilde{q}(x) = \\sum_{k=-N/2}^{N/2-1} \\widetilde{c}_k \\omega^k(x)\n",
    "$$\n",
    "satisfies the interpolation conditions $\\tilde{q}(x_l) = f_l$ for $0\\leqslant l \\leqslant N-1$."
   ]
  },
  {
   "cell_type": "markdown",
   "metadata": {},
   "source": [
    "Because of the simple index shift, we can use the discrete fast Fourier transform of $\\{f_l\\}_{l=0}^N$ to compute both $c_k$ and $\\widetilde{c}_k$. As a matter of convention the following indexing \n",
    "is commonly used for the Fourier coefficients (But always check!):\n",
    "\n",
    "For $N = 2n +1 $ we have\n",
    "\n",
    "\\begin{align}\n",
    "[\\widehat{f}_0, \\widehat{f}_1, \\ldots, \\widehat{f}_{N-1}] \n",
    "&= \n",
    "[c_0, c_1, \\ldots, c_n, c_{n+1}, \\ldots, c_{N-1}]\n",
    "\\\\\n",
    "&= [ \\widetilde{c}_0, \\ldots, \\widetilde{c}_n, \\widetilde{c}_{-n}, \\ldots, \\widetilde{c}_{-1}]\n",
    "\\\\\n",
    "&= [\\widehat{f}_0, \\widehat{f}_1, \\ldots, \\widehat{f}_{n}, \\widehat{f}_{-n}, \\ldots, \\widehat{f}_{-1}]\n",
    "\\end{align}"
   ]
  },
  {
   "cell_type": "markdown",
   "metadata": {},
   "source": [
    "For $N = 2n$ we have instead\n",
    "\n",
    "\\begin{align}\n",
    "[\\widehat{f}_0, \\widehat{f}_1, \\ldots, \\widehat{f}_{N-1}] \n",
    "&= \n",
    "[c_0, c_1, \\ldots, c_{n-1}, c_{n}, \\ldots, c_{N-1}]\n",
    "\\\\\n",
    "&= [ \\widetilde{c}_0, \\ldots, \\widetilde{c}_{n-1}, \\widetilde{c}_{-n}, \\ldots, \\widetilde{c}_{-1}]\n",
    "\\\\\n",
    "&= [\\widehat{f}_0, \\widehat{f}_1, \\ldots, \\widehat{f}_{n-1}, \\widehat{f}_{-n}, \\ldots, \\widehat{f}_{-1}]\n",
    "\\end{align}"
   ]
  },
  {
   "cell_type": "markdown",
   "metadata": {},
   "source": [
    "### Real trigonometric interpolation"
   ]
  }
 ],
 "metadata": {
  "jupytext": {
   "formats": "ipynb,md:myst"
  },
  "kernelspec": {
   "display_name": "Python 3 (ipykernel)",
   "language": "python",
   "name": "python3"
  },
  "language_info": {
   "codemirror_mode": {
    "name": "ipython",
    "version": 3
   },
   "file_extension": ".py",
   "mimetype": "text/x-python",
   "name": "python",
   "nbconvert_exporter": "python",
   "pygments_lexer": "ipython3",
   "version": "3.13.2"
  }
 },
 "nbformat": 4,
 "nbformat_minor": 4
}
