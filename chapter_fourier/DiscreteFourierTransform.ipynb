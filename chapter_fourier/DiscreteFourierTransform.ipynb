{
 "cells": [
  {
   "cell_type": "markdown",
   "metadata": {},
   "source": [
    "## Discrete Fourier transform\n",
    "\n",
    "[Nice reference explaining the FFT](https://jakevdp.github.io/blog/2013/08/28/understanding-the-fft/)"
   ]
  },
  {
   "cell_type": "markdown",
   "metadata": {},
   "source": [
    "\n",
    "### Motivation\n",
    "\n",
    "Let's assume we have an $L$-periodic function $f(x)$, which is defined on the interval $[0, L)$.\n",
    "We define the $N$ equidistant points on this interval as $x_k = k \\frac{L}{N}$, where $k = 0, 1, \\ldots, N-1$ with corresponding function values $f_k = f(x_k)$.\n",
    "\n",
    "Based on the points $x_k$ and sampled function values $f_k$ we now want to compute/approximate the Fourier series for the function $f(x)$.\n",
    "As we have $N$ sampling points, it seems natural to compute $N$ Fourier coefficients $c_k(f)$ for the Fourier series expansion of $f(x)$. \n",
    "To compute the integrals for the Fourier coefficients, we recall the definition of\n",
    "the **composite trapezoidal rule** to approximate integrals. \n",
    "For a given $L$-periodic $g(x)$, the integral of $g(x)$ over the interval $[0, L)$ can be approximated by\n",
    "\n",
    "\\begin{align}\n",
    "\\int_0^L g(x) \\, dx \n",
    "&\\approx \\frac{L}{N} \\left( \\frac{g_0}{2} + g_1 + g_2 + \\ldots + g_{N-1} + \\frac{g_N}{2} \\right) \n",
    "\\\\\n",
    "&= \\frac{L}{N} \\left( {g_0} + g_1 + g_2 + \\ldots + g_{N-1} \\right) \n",
    "\\end{align}\n",
    "where we set $g_k = g(x_k)$ and used that $g_0 = g_N$ for $L$-periodic functions.\n",
    "\n",
    "We apply this formula to approximate the Fourier coefficients $c_n(f)$ of the function $f(x)$:\n",
    "\n",
    "\\begin{align}\n",
    "c_n(f) = \\widehat{f}(n)\n",
    "&= \\frac{1}{L} \\int_0^L f(x) e^{-i 2 \\pi n x/L} \\, dx\n",
    "\\\\\n",
    "&\\approx \\frac{1}{N} \n",
    "\\sum_{k=0}^{N-1} f_k e^{-i 2 \\pi n x_k / L}\n",
    "\\\\\n",
    "&= \\frac{1}{N}\n",
    "\\sum_{k=0}^{N-1} f_k e^{-i 2 \\pi n k / N}\n",
    "\\\\\n",
    "&=\\frac{1}{N}\\sum_{k=0}^{N-1} f_k \\omega_N^{-n k}\n",
    "\\end{align}"
   ]
  },
  {
   "cell_type": "markdown",
   "metadata": {},
   "source": [
    ":::{prf:definition} Discrete Fourier transform\n",
    ":label: fou:def:dft\n",
    "\n",
    "The discrete Fourier transform (DFT) of a sequence $\\boldsymbol{f} = \\{f_0, f_1, \\ldots, f_{N-1}\\} \\subset \\mathbb{C}^N$ is itself a sequence $\\widehat{\\boldsymbol{f}} = \\{\\widehat{f}_0, \\widehat{f}_1, \\ldots, \\widehat{f}_{N-1}\\} \\subset \\mathbb{C}^N$ defined by\n",
    "defined as\n",
    "$$  \\widehat{f}(n) = \\frac{1}{N} \\sum_{k=0}^{N-1} f_k \\omega_N^{-n k} $$\n",
    "where $\\omega_N = e^{-i 2 \\pi / N}$.\n",
    "\n",
    ":::\n",
    "\n",
    ":::{admonition} TODO\n",
    ":class: danger dropdown\n",
    "Shifted DFT indices to $-N/2, \\ldots, N/2-1$ for even $N$ and to $-N/2, \\ldots, N/2$ for odd $N$.\n",
    ":::\n",
    "\n",
    "\n",
    "In matrix notation, the DFT can be written as\n",
    "$$ \\widehat{\\boldsymbol{f}} = \\mathcal{F}_N \\boldsymbol{f} $$\n",
    "where $\\mathcal{F}_N$ is the Fourier matrix with elements $F_{n,k} = \\omega_N^{-n k}$, i.e.\n",
    "$$\n",
    "\\mathcal{F}_N = \\frac{1}{N} \\begin{pmatrix}\n",
    "1 & 1 & 1 & \\cdots & 1 \\\\\n",
    "1 & \\omega_N^{-1} & \\omega_N^{-2} & \\cdots & \\omega_N^{-(N-1)} \\\\\n",
    "1 & \\omega_N^{-2} & \\omega_N^{-4} & \\cdots & \\omega_N^{-2(N-1)} \\\\\n",
    "\\vdots & \\vdots & \\vdots & \\ddots & \\vdots \\\\\n",
    "1 & \\omega_N^{-(N-1)} & \\omega_N^{-2(N-1)} & \\cdots & \\omega_N^{-(N-1)(N-1)}\n",
    "\\end{pmatrix}\n",
    "$$\n"
   ]
  },
  {
   "cell_type": "markdown",
   "metadata": {},
   "source": [
    "### Trigonometric interpolation and the inverse DFT"
   ]
  },
  {
   "cell_type": "markdown",
   "metadata": {},
   "source": [
    "* Trigonometric interpolation\n",
    "* Explain frequency choices (centered around $0$ or $N/2$)\n",
    "* Discuss scalar discrete inner product, discrete orthogonality and inversion relationships"
   ]
  },
  {
   "cell_type": "markdown",
   "metadata": {},
   "source": []
  }
 ],
 "metadata": {
  "kernelspec": {
   "display_name": "tma4320_scientific_computation-vlMPykwy",
   "language": "python",
   "name": "python3"
  },
  "language_info": {
   "name": "python",
   "version": "3.13.2"
  }
 },
 "nbformat": 4,
 "nbformat_minor": 2
}
