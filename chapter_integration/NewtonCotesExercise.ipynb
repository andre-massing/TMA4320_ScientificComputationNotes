{
 "cells": [
  {
   "cell_type": "markdown",
   "metadata": {},
   "source": [
    "# Lab 4: Problem set on Newton-Cotes formulas"
   ]
  },
  {
   "cell_type": "markdown",
   "metadata": {},
   "source": [
    "The main task of this problem set is the following: for a given interval $(a,b)$ and $n+1$ equally distributed nodes $x_i = a + i \\tfrac{(b-a)}{n}$\n",
    "for $i=0,\\ldots n$, tabulate the weights for the Newton-Cotes formula up to $n=14$.\n",
    "The problem boils down to 2 task, namely \n",
    "\n",
    "1. Defining the Lagrange polynomials $L_{in}$ for $i=0, \\ldots, n$\n",
    "2. Computing the weights $ w_i = \\int_a^b L_{in}(x) \\,\\mathrm{d}x $\n",
    "\n",
    "__Before you start:__ For the implementation of the task, we recommend to use the [sympy](https://docs.sympy.org/latest/index.html#) python module  for symbolic mathematics to perform tasks such as (symbolic) integration.\n",
    "Spend some time to browse  through the  [sympy tutorial](https://docs.sympy.org/latest/tutorial/index.html) and the [help on symbolic integration](https://docs.sympy.org/latest/modules/integrals/integrals.html). Using ```sympy```__Before you start:__ For the implementation of the task, we recommend to use the [sympy](https://docs.sympy.org/latest/index.html#) python module  for symbolic mathematics to perform tasks such as (symbolic) integration.\n",
    "Spend some time to browse  through the  [sympy tutorial](https://docs.sympy.org/latest/tutorial/index.html) and the [help on symbolic integration](https://docs.sympy.org/latest/modules/integrals/integrals.html). Using ```sympy``` you can for instance do something like this for $n=2$:\n"
   ]
  },
  {
   "cell_type": "code",
   "execution_count": 1,
   "metadata": {},
   "outputs": [
    {
     "name": "stdout",
     "output_type": "stream",
     "text": [
      "w0 = 0.166666666666667\n"
     ]
    }
   ],
   "source": [
    "# import symbol x from sympy so that you can define symbolic functions of x\n",
    "from sympy.abc import x\n",
    "# import symbolic integration\n",
    "from sympy import integrate \n",
    "import numpy as np\n",
    "from functools import reduce\n",
    "\n",
    "# Define\n",
    "a, b = 0, 1 \n",
    "xqs = np.linspace(a,b,3)\n",
    "# Define L_02 (not normalized)\n",
    "L_02 = (x-xqs[1])*(x-xqs[2])\n",
    "# Normalize it to satisfy l_02(x_0) = 1\n",
    "L_02 = L_02/L_02.subs(x,xqs[0])\n",
    "\n",
    "# Now integrate L_02 to compute the first weight\n",
    "w_0 = integrate(L_02, (x, a, b))\n",
    "print(\"w0 = {}\".format(w_0))"
   ]
  },
  {
   "cell_type": "markdown",
   "metadata": {},
   "source": [
    "Of course, \n",
    "since you are asked to do comupute all $n+1$ weights  $n=1,\\ldots,14$,\n",
    "you need to automatize the construction of the corresponding Lagrange polynoms.\n",
    "So proceed as follows\n"
   ]
  },
  {
   "cell_type": "markdown",
   "metadata": {},
   "source": [
    "__a__) Write  a python function ```lagrange_polys``` which takes a list of $n+1$ quadrature points\n",
    "and returns a list of the corresponding $n+1$ Lagrange polynoms $\\{L_{in}\\}_{i=0}^n$\n",
    "defined a symbolic function using ```sympy```:"
   ]
  },
  {
   "cell_type": "code",
   "execution_count": null,
   "metadata": {},
   "outputs": [],
   "source": [
    "def lagrange_polys(xqs):\n",
    "    n = len(xqs)\n",
    "    # Define non-normalized Lagrange basis functions\n",
    "    Ls = [reduce(lambda x,y : x*y,[x - xqs[j] for j in range(n) if j is not i]) for i in range(n)]\n",
    "    # Normalize them\n",
    "    Ls = [Ls[i]/Ls[i].subs(x, xqs[i]) for i in range(n)]\n",
    "    return Ls"
   ]
  },
  {
   "cell_type": "markdown",
   "metadata": {},
   "source": [
    "\n",
    "__b__) Now the easy part! Employ your brand new ```def lagrange_polys``` function and implement a python function which takes as argument the desired degree of exactness $n$ and the interval end points\n",
    "$a,b$ and returns a list of quadrature points $\\{x_i\\}_{i=0}^n$ and quadrature weights $\\{w_i\\}_{i=0}^n$:"
   ]
  },
  {
   "cell_type": "code",
   "execution_count": null,
   "metadata": {},
   "outputs": [],
   "source": [
    "def newton_cotes_formula(n, a, b):\n",
    "    xqs = np.linspace(a,b,n+1)\n",
    "    Ls = lagrange_polys(xqs)\n",
    "    ws = np.array([integrate(L, (x, a, b)) for L in Ls ])\n",
    "    return (xqs, ws)"
   ]
  },
  {
   "cell_type": "markdown",
   "metadata": {},
   "source": [
    "__c__) Before you tabulate the quadrature weights with you newly implemented function, make sure that you implement them correctly. More, specifically, check for $n=1,\\ldots 14$\n",
    "that the computed Newton-Cotes formula integrates polynomials up to order $n$ __exactly__.\n",
    "\n",
    "For $n$ is even, check that the corresponding Newton-Cotes rules even integrate polynomials up to order $n+1$  exactly (and not only up to $n$).\n",
    "\n",
    "Note:  Due to floating point related errors and some numerical instabilities when computing\n",
    "higher order Lagrange polynomials and integrals, the difference between the exact integral \n",
    "and the numerically error won't be 0, but around the machine precision for $n=1,2$ and then\n",
    "for each increase of the order $n$ you will roughly loose of significant digit in\n",
    "the difference between the two.\n",
    "\n",
    "It might be useful to implement a little function ```qr``` first,\n",
    "which takes $f$, $\\{x_i\\}_{i=0}^n$ and $\\{w_i\\}_{i=0}^n$ and\n",
    "applies the corresponding quadrature to compute $\\int_a^b f \\,\\mathrm{d}x$ numerically.\n"
   ]
  },
  {
   "cell_type": "code",
   "execution_count": null,
   "metadata": {},
   "outputs": [],
   "source": [
    "def qr(f, xqs, ws):\n",
    "    qr_f = np.array([w*f.subs(x, xq) for xq,w in zip(xqs, ws)]).sum()\n",
    "    return qr_f"
   ]
  },
  {
   "cell_type": "code",
   "execution_count": null,
   "metadata": {},
   "outputs": [],
   "source": [
    "mono = lambda x,m: x**m\n",
    "print(mono(x,2))\n",
    "\n",
    "for n in range(1,15):\n",
    "    xqs, ws = newton_cotes_formula(n, a, b)\n",
    "    print(\"Newton-Cotes rules for n = {}\".format(n))\n",
    "    for m in range(n+1):\n",
    "        f = mono(x,m)\n",
    "        int_f = integrate(f, (x,a,b))\n",
    "        qr_f = qr(f, xqs, ws)\n",
    "        print(\"integral(x**{})= {}\".format(m,int_f))\n",
    "        print(\"qr(x**{})= {}\".format(m,qr_f))\n",
    "        print(\"int - qr = {}\".format(int_f - qr_f))\n"
   ]
  },
  {
   "cell_type": "markdown",
   "metadata": {},
   "source": [
    "__d__) Tabulate the quadrature weights for the Newton-Cotes rule for $n=1,\\ldots 14$. For which $n$  should you\n",
    "refrain from using the resulting quadrature rule (and why?)"
   ]
  },
  {
   "cell_type": "code",
   "execution_count": null,
   "metadata": {},
   "outputs": [],
   "source": [
    "for n in range(1,15):\n",
    "    xqs, weights = newton_cotes_formula(n, a, b)\n",
    "    neg_weights = weights[weights < 0]\n",
    "    if len(neg_weights) > 0:\n",
    "        print(\"Newton-Cotes formula for n = %d contains negative weights!\\n Don't use it!\" % n)"
   ]
  },
  {
   "cell_type": "markdown",
   "metadata": {},
   "source": [
    "__e__) Finally, since we have all the nice machinery in place, we take a little extra-tour\n",
    "and investigate the convergence of the Newton-Cotes rules for $n\\to \\infty$.\n",
    "\n",
    "More precisely, compute for $f(x) = \\cos(x)$ the integral $\\int_{-4}^{5} f(x) \\,\\mathrm{d}x $ first analytically \n",
    "and then numerically using the Newton-Cotes rules for $n=1,\\ldots, 14$ and tabulate\n",
    "the quadrature error $E_n(f) = \\int_{-4}^{5} \\cos(x)\\,\\mathrm{d}x - \\mathrm{NCR}(\\cos, n)$.\n",
    "\n",
    "Finally, repeat the same experiment for for $f(x) = \\tfrac{1}{1+x^2}$.\n",
    "\n"
   ]
  }
 ],
 "metadata": {
  "file_extension": ".py",
  "kernelspec": {
   "display_name": "Python 3 (ipykernel)",
   "language": "python",
   "name": "python3"
  },
  "language_info": {
   "codemirror_mode": {
    "name": "ipython",
    "version": 3
   },
   "file_extension": ".py",
   "mimetype": "text/x-python",
   "name": "python",
   "nbconvert_exporter": "python",
   "pygments_lexer": "ipython3",
   "version": "3.13.1"
  },
  "mimetype": "text/x-python",
  "name": "python",
  "npconvert_exporter": "python",
  "pygments_lexer": "ipython3",
  "version": 3
 },
 "nbformat": 4,
 "nbformat_minor": 4
}
