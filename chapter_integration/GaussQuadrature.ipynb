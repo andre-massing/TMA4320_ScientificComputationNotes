{
 "cells": [
  {
   "cell_type": "markdown",
   "metadata": {
    "slideshow": {
     "slide_type": "slide"
    }
   },
   "source": [
    "# Numerical integration: Part IV\n",
    "\n",
    "## Gauß quadrature formulas\n",
    "\n",
    "**Anne Kværnø, André Massing**\n",
    "\n"
   ]
  },
  {
   "cell_type": "markdown",
   "metadata": {
    "slideshow": {
     "slide_type": "slide"
    }
   },
   "source": [
    "# Gauß quadrature"
   ]
  },
  {
   "cell_type": "markdown",
   "metadata": {
    "slideshow": {
     "slide_type": "slide"
    }
   },
   "source": [
    "Last lecture, when comparing the trapezoidal rule with Gauß-Legendre\n",
    "quadrature rule, both based on two quadrature nodes,\n",
    "we observed that\n",
    "* the Gauß-Legendre quadrature was much more accurate than the\n",
    "  trapezoidal rule,\n",
    "\n",
    "* the Gauß-Legendre quadrature *has degree of exactness equal to $3$\n",
    "  and not only $1$*.\n",
    "\n",
    "So obviously the position of the nodes matters!"
   ]
  },
  {
   "cell_type": "markdown",
   "metadata": {
    "slideshow": {
     "slide_type": "slide"
    }
   },
   "source": [
    "**Questions:**\n",
    "* Is there a general approach to construct quadrature rules\n",
    "  $Q[\\cdot](\\{x_i\\}_{i=0}^n,\\{w_i\\}_{i=0}^n)$ based on $n+1$ nodes with\n",
    "  a degree of exactness $> n$?\n",
    "\n",
    "* What is the maximal degree of exactness we can achieve?"
   ]
  },
  {
   "cell_type": "markdown",
   "metadata": {
    "slideshow": {
     "slide_type": "fragment"
    }
   },
   "source": [
    "**Intuition:** If we don't predefine the quadrature nodes,\n",
    "we have $2n+2$ parameters ($n+1$ nodes and $n+1$ weights)\n",
    "in total.\n",
    "\n",
    "With $2n+2$ parameters, we might hope that we can construct\n",
    "quadrature rules which are exact for $p \\in \\mathbb{P}_{2n+1}$."
   ]
  },
  {
   "cell_type": "markdown",
   "metadata": {
    "slideshow": {
     "slide_type": "slide"
    }
   },
   "source": [
    "## Definition 1: Gaussian quadrature\n",
    "\n",
    "A quadrature rule \n",
    "$Q[\\cdot](\\{x_i\\}_{i=0}^n,\\{w_i\\}_{i=0}^n)$ based on $n+1$ nodes\n",
    "which has degree of exactness equals to $2n+1$ is called a\n",
    "**Gaussian (Legendre) quadrature** (GQ)."
   ]
  },
  {
   "cell_type": "markdown",
   "metadata": {
    "slideshow": {
     "slide_type": "slide"
    }
   },
   "source": [
    "## Orthogonal polynomials\n",
    "To construct Gaussian quadrature rule, we need to briefly review\n",
    "the concept of orthogonality, which we introduced when we learned\n",
    "about Fourier series."
   ]
  },
  {
   "cell_type": "markdown",
   "metadata": {
    "slideshow": {
     "slide_type": "slide"
    }
   },
   "source": [
    "Two functions $f, g: [a,b] \\to \\mathbb{R}$ are orthogonal if\n",
    "\n",
    "$$\n",
    "{\\langle f, g \\rangle} := \\int_a^b f(x) g(x) {\\,\\mathrm{d}x} = 0.\n",
    "$$\n",
    "\n",
    "Usually, it will be clear from the context which interval $[a,b]$\n",
    "we picked."
   ]
  },
  {
   "cell_type": "markdown",
   "metadata": {
    "slideshow": {
     "slide_type": "slide"
    }
   },
   "source": [
    "## Theorem 1: Orthogonal polynomials on $[a,b]$\n",
    "\n",
    "<div id=\"quad:thm:orthopolys\"></div>\n",
    "There is a sequence of $\\{p_k\\}_{k=1}^{\\infty}$\n",
    "of polynomials satisfying"
   ]
  },
  {
   "cell_type": "markdown",
   "metadata": {
    "slideshow": {
     "slide_type": "fragment"
    }
   },
   "source": [
    "<!-- Equation labels as ordinary links -->\n",
    "<div id=\"_auto1\"></div>\n",
    "\n",
    "\\begin{equation}\n",
    "p_0(x) = 1,\n",
    "\\label{_auto1} \\tag{1}\n",
    "\\end{equation}"
   ]
  },
  {
   "cell_type": "markdown",
   "metadata": {
    "slideshow": {
     "slide_type": "fragment"
    }
   },
   "source": [
    "<!-- Equation labels as ordinary links -->\n",
    "<div id=\"quad:eq:poly_normalization\"></div>\n",
    "\n",
    "\\begin{equation}  \n",
    "p_k(x) = x^k + r_{k-1}(x) \\quad \\text{for } k=1,2,\\ldots\n",
    "\\label{quad:eq:poly_normalization} \\tag{2}\n",
    "\\end{equation}\n",
    "\n",
    "with $r_{k-1} \\in \\mathbb{P}_{k-1}$ and ..."
   ]
  },
  {
   "cell_type": "markdown",
   "metadata": {
    "slideshow": {
     "slide_type": "slide"
    }
   },
   "source": [
    "satisfying the\n",
    "*orthogonality property*\n",
    "\n",
    "<!-- Equation labels as ordinary links -->\n",
    "<div id=\"_auto2\"></div>\n",
    "\n",
    "\\begin{equation}\n",
    "{\\langle p_k, p_l \\rangle} = \\int_a^b p_k(x) p_l(x) dx = 0\n",
    "\\quad \\text{for } k \\neq l,\n",
    "\\label{_auto2} \\tag{3}\n",
    "\\end{equation}"
   ]
  },
  {
   "cell_type": "markdown",
   "metadata": {
    "slideshow": {
     "slide_type": "fragment"
    }
   },
   "source": [
    "and that every polynomial $q_n \\in \\mathbb{P}_{n}$\n",
    "can be written as a linear combination of\n",
    "those orthogonal polynomials up to order $n$.\n",
    "In other words\n",
    "\n",
    "$$\n",
    "\\mathbb{P}_{n} = \\mathrm{Span} \\{p_0,\\ldots, p_n\\}\n",
    "$$"
   ]
  },
  {
   "cell_type": "markdown",
   "metadata": {
    "slideshow": {
     "slide_type": "slide"
    }
   },
   "source": [
    "**Proof.**\n",
    "We start from the sequence $\\{\\phi_k\\}_{k=0}^{\\infty}$ of monomials\n",
    "$\\phi_k(x) = x^k$ and apply the Gram-Schmidt orthogonalization\n",
    "procedure:"
   ]
  },
  {
   "cell_type": "markdown",
   "metadata": {
    "slideshow": {
     "slide_type": "fragment"
    }
   },
   "source": [
    "\\begin{align*}\n",
    " \\widetilde{p}_0\n",
    " &:= 1 = \\phi_0\n",
    "\\\\ \n",
    " \\widetilde{p}_1\n",
    " &:= \\phi_1 - \\dfrac{{\\langle \\phi_1, \\widetilde{p_0} \\rangle}}{\\|\\widetilde{p_0}\\|^2} \\widetilde{p}_0\n",
    " \\\\ \n",
    " \\widetilde{p}_2\n",
    " &:= \\phi_2\n",
    " - \\dfrac{{\\langle \\phi_2, \\widetilde{p }_0\\rangle }}{\\|\\widetilde{p}_0\\|^2} \\widetilde{p}_0\n",
    " - \\dfrac{{\\langle \\phi_2, \\widetilde{p}_1 \\rangle}}{\\|\\widetilde{p}_1\\|^2} \\widetilde{p}_1\n",
    " \\\\ \n",
    " \\ldots\n",
    " \\\\ \n",
    "\\widetilde{p}_k\n",
    "&= \\phi_k - \\sum_{j=0}^{k-1}\\frac{\n",
    "{\\langle \\phi_k, \\widetilde{p \\rangle}_j}}\n",
    "{\\|\\widetilde{p}_j\\|^2} \\widetilde{p}_j\n",
    "\\end{align*}"
   ]
  },
  {
   "cell_type": "markdown",
   "metadata": {
    "slideshow": {
     "slide_type": "slide"
    }
   },
   "source": [
    "By construction, $\\widetilde{p}_n \\in \\mathbb{P}_{n}$ and\n",
    "${\\langle p_k, p_l \\rangle} = 0$ for $k\\neq l$.\n",
    "Since $\\widetilde{p}_k(x) = a_k x^k + a_{k-1} x^{k-1} + \\ldots a_0$,\n",
    "we simply define\n",
    "$p_k(x) = \\widetilde{p}_k/a_k$\n",
    "to satisfy ([2](#quad:eq:poly_normalization))."
   ]
  },
  {
   "cell_type": "markdown",
   "metadata": {
    "slideshow": {
     "slide_type": "slide"
    }
   },
   "source": [
    "## Theorem 2: Roots of orthogonal polynomials\n",
    "\n",
    "Each of the polynomials $p_n$ defined in\n",
    "[Theorem 1: Orthogonal polynomials on $[a,b]$](#quad:thm:orthopolys)\n",
    "has **$n$ distinct real roots**.\n",
    "\n",
    "\n",
    "**Proof.**\n",
    "Without proof, will be added later for the curious among you."
   ]
  },
  {
   "cell_type": "markdown",
   "metadata": {
    "slideshow": {
     "slide_type": "slide"
    }
   },
   "source": [
    "## Theorem 3: Construction of Gaussian quadrature\n",
    "\n",
    "Let $p_{n+1} \\in \\mathbb{P}_{n+1}$ be a polynomial\n",
    "on $[a,b]$\n",
    "satisfying\n",
    "\n",
    "$$\n",
    "{\\langle p_{n+1}, q \\rangle} = 0 \\quad {\\forall\\;} q \\in \\mathbb{P}_{n}.\n",
    "$$\n",
    "\n",
    "Set $\\{x_i\\}_{i=0}^n$ to be the $n+1$ real roots of $p_{n+1}$\n",
    "and define the weights $\\{w_i\\}_{i=0}^n$ by\n",
    "\n",
    "$$\n",
    "w_i = \\int_{a}^{b} \\ell_i(x) {\\,\\mathrm{d}x}.\n",
    "$$\n",
    "\n",
    "where $\\{\\ell_i\\}_{i=0}^n$ are the $n+1$ cardinal functions\n",
    "associated with\n",
    "$\\{x_i\\}_{i=0}^n$.\n",
    "The resulting quadrature rule is\n",
    "a Gaussian quadrature.\n",
    "\n",
    "**Proof.** Without proof, will be added later for the curious among you."
   ]
  },
  {
   "cell_type": "markdown",
   "metadata": {
    "slideshow": {
     "slide_type": "slide"
    }
   },
   "source": [
    "**Recipe 1 to construct a Gaussian quadrature.**\n",
    "\n",
    "To construct a Gaussian formula on $[a,b]$ based\n",
    "on $n+1$ nodes you proceed as follows"
   ]
  },
  {
   "cell_type": "markdown",
   "metadata": {
    "slideshow": {
     "slide_type": "fragment"
    }
   },
   "source": [
    "1. Construct a polynomial $p_{n+1} \\in \\mathbb{P}_{n+1}$\n",
    "  on the interval $[a, b]$\n",
    "  which satisfies\n",
    "\n",
    "$$\n",
    "\\int_{a}^b p_{n+1}(x) q(x) {\\,\\mathrm{d}x} \\quad {\\forall\\;} q \\in \\mathbb{P}_{n}.\n",
    "$$\n",
    "\n",
    "  You can start from the monomials $\\{1,x, x^2, \\ldots, x^{n+1}\\}$\n",
    "  and use Gram-Schmidt to orthogonalize them."
   ]
  },
  {
   "cell_type": "markdown",
   "metadata": {
    "slideshow": {
     "slide_type": "fragment"
    }
   },
   "source": [
    "2. Determine the $n+1$ **real** roots $\\{x_i\\}_{i=0}^n$\n",
    "  of $p_{n+1}$ which serve then as quadrature\n",
    "  nodes."
   ]
  },
  {
   "cell_type": "markdown",
   "metadata": {
    "slideshow": {
     "slide_type": "fragment"
    }
   },
   "source": [
    "3. Calculate the cardinal functions $\\ell_i(x)$ associated\n",
    "  with $n+1$ nodes $\\{x_i\\}_{i=0}^n$ and then the weights are given\n",
    "  by\n",
    "  $\\displaystyle w_i = \\int_{a}^{b} \\ell_i(x) {\\,\\mathrm{d}x}.$"
   ]
  },
  {
   "cell_type": "markdown",
   "metadata": {
    "slideshow": {
     "slide_type": "slide"
    }
   },
   "source": [
    "This is the recipe you are asked to use in Exercise set 3.\n",
    "Alternatively one can start from a reference interval,\n",
    "leading  to"
   ]
  },
  {
   "cell_type": "markdown",
   "metadata": {
    "slideshow": {
     "slide_type": "slide"
    }
   },
   "source": [
    "**Recipe 2 to construct a Gaussian quadrature.**\n",
    "\n",
    "To construct a Gaussian formula on $[a,b]$ based\n",
    "on $n+1$ nodes you proceed as follows\n",
    "\n",
    "1. Construct a polynomial $p_{n+1} \\in \\mathbb{P}_{n+1}$\n",
    "  on the reference interval $[-1, 1]$\n",
    "  which satisfies\n",
    "\n",
    "$$\n",
    "\\int_{-1}^1 p_{n+1}(x) q(x) {\\,\\mathrm{d}x} \\quad {\\forall\\;} q \\in \\mathbb{P}_{n}.\n",
    "$$\n",
    "\n",
    "2. You determine the $n+1$ **real** roots $\\{\\hat{x}_i\\}_{i=0}^n$\n",
    "  of $p_{n+1}$ which serve then as quadrature\n",
    "  nodes.\n",
    "\n",
    "3. Calculate the cardinal functions $\\ell_i(x)$ associated\n",
    "  with $n+1$ nodes $\\{\\hat{x}_i\\}_{i=0}^n$ and then the weights are given\n",
    "  by\n",
    "  $\\displaystyle \\hat{w}_i = \\int_{-1}^{1} \\ell_i(x) {\\,\\mathrm{d}x}.$\n",
    "\n",
    "4. Finally, transform the resulting Gauß quadrature formula\n",
    "  to the desired interval $[a,b]$ via\n",
    "\n",
    "$$\n",
    "x_i = \\frac{b-a}{2}\\widehat{x}_i + \\frac{b+a}{2}, \\quad  w_i = \\frac{b-a}{2}\\widehat{w}_i\n",
    "\\quad \\text{for } i = 0, \\ldots n.\n",
    "$$"
   ]
  },
  {
   "cell_type": "markdown",
   "metadata": {
    "slideshow": {
     "slide_type": "slide"
    }
   },
   "source": [
    "## Example: Revisiting Gauß-Legendre quadrature with 2 nodes\n",
    "\n",
    "We will now derive the Gauß-Legendre quadrature with 2 nodes\n",
    "we encountered in the previous lectures\n",
    "\n",
    "Today we will use the `sympy` quite a bit,\n",
    "and start with the snippets"
   ]
  },
  {
   "cell_type": "code",
   "execution_count": 3,
   "metadata": {
    "slideshow": {
     "slide_type": "fragment"
    }
   },
   "outputs": [],
   "source": [
    "from sympy.abc import x # Denote our integration variable x\n",
    "from sympy import integrate"
   ]
  },
  {
   "cell_type": "markdown",
   "metadata": {
    "slideshow": {
     "slide_type": "fragment"
    }
   },
   "source": [
    "Spend a minute and have look at [integrate](https://docs.sympy.org/latest/modules/integrals/integrals.html) submodule."
   ]
  },
  {
   "cell_type": "markdown",
   "metadata": {
    "slideshow": {
     "slide_type": "slide"
    }
   },
   "source": [
    "First we construct the first 3 orthogonal polynomials\n",
    "(order 0, 1, 2) on $[0,1]$. Spend 2 minutes to understand the\n",
    "code below:"
   ]
  },
  {
   "cell_type": "code",
   "execution_count": 9,
   "metadata": {
    "slideshow": {
     "slide_type": "fragment"
    }
   },
   "outputs": [
    {
     "name": "stdout",
     "output_type": "stream",
     "text": [
      "[1, x, x**2]\n"
     ]
    }
   ],
   "source": [
    "# Interval\n",
    "a, b = 0, 1\n",
    "\n",
    "# Define scalar product\n",
    "def scp(p,q):\n",
    "    return integrate(p*q, (x, a, b))\n",
    "\n",
    "# Define monomials up to order 2\n",
    "mono = lambda x,m: x**m\n",
    "def mono(x,m):\n",
    "    return x**m\n",
    "\n",
    "phis = [ mono(x,m) for m in range(3)]\n",
    "print(phis)"
   ]
  },
  {
   "cell_type": "markdown",
   "metadata": {
    "slideshow": {
     "slide_type": "slide"
    }
   },
   "source": [
    "Construct orthogonal polynomials (not normalized)"
   ]
  },
  {
   "cell_type": "code",
   "execution_count": null,
   "metadata": {
    "slideshow": {
     "slide_type": "fragment"
    }
   },
   "outputs": [],
   "source": [
    "# Insert code here"
   ]
  },
  {
   "cell_type": "code",
   "execution_count": 10,
   "metadata": {
    "slideshow": {
     "slide_type": "slide"
    }
   },
   "outputs": [
    {
     "name": "stdout",
     "output_type": "stream",
     "text": [
      "ps\n",
      "[1, x - 1/2, x**2 - x + 1/6]\n"
     ]
    }
   ],
   "source": [
    "ps = []\n",
    "# Use Gram-Schmidt\n",
    "for phi in phis:\n",
    "    ps.append(phi)\n",
    "    for p in ps[:-1]:\n",
    "        ps[-1] = ps[-1] - scp(p, ps[-1])/scp(p, p)*p\n",
    "        \n",
    "print(\"ps\")\n",
    "print(ps)"
   ]
  },
  {
   "cell_type": "markdown",
   "metadata": {
    "slideshow": {
     "slide_type": "slide"
    }
   },
   "source": [
    "Now write a code snippet to check whether they are actually orthogonal"
   ]
  },
  {
   "cell_type": "code",
   "execution_count": null,
   "metadata": {
    "slideshow": {
     "slide_type": "fragment"
    }
   },
   "outputs": [],
   "source": [
    "# Insert code here"
   ]
  },
  {
   "cell_type": "code",
   "execution_count": 17,
   "metadata": {
    "slideshow": {
     "slide_type": "slide"
    }
   },
   "outputs": [
    {
     "name": "stdout",
     "output_type": "stream",
     "text": [
      "int_p_q = 1\n",
      "int_p_q = 0\n",
      "int_p_q = 0\n",
      "int_p_q = 0\n",
      "int_p_q = 1/12\n",
      "int_p_q = 0\n",
      "int_p_q = 0\n",
      "int_p_q = 0\n",
      "int_p_q = 1/180\n"
     ]
    }
   ],
   "source": [
    "for p in ps:\n",
    "    for q in ps:\n",
    "        int_p_q = scp(p,q)\n",
    "        print(\"int_p_q = {}\".format(int_p_q))"
   ]
  },
  {
   "cell_type": "markdown",
   "metadata": {
    "slideshow": {
     "slide_type": "slide"
    }
   },
   "source": [
    "Compute the roots of the second order polynomial. \n",
    "Of course you can do it by hand\n",
    "but le'ts us `sympy` for it.\n",
    "Spend a minute a have a look at [solve](https://docs.sympy.org/latest/modules/solvers/solvers.html) submodule."
   ]
  },
  {
   "cell_type": "code",
   "execution_count": 18,
   "metadata": {
    "slideshow": {
     "slide_type": "fragment"
    }
   },
   "outputs": [],
   "source": [
    "from sympy.solvers import solve\n",
    "\n",
    "# Insert code here"
   ]
  },
  {
   "cell_type": "code",
   "execution_count": 13,
   "metadata": {
    "slideshow": {
     "slide_type": "fragment"
    }
   },
   "outputs": [
    {
     "name": "stdout",
     "output_type": "stream",
     "text": [
      "x**2 - x + 1/6\n",
      "[1/2 - sqrt(3)/6, sqrt(3)/6 + 1/2]\n"
     ]
    }
   ],
   "source": [
    "print(ps[-1])\n",
    "xqs = solve(ps[-1])\n",
    "print(xqs)"
   ]
  },
  {
   "cell_type": "markdown",
   "metadata": {
    "slideshow": {
     "slide_type": "slide"
    }
   },
   "source": [
    "Next constructe the cardinal functions\n",
    "$\\ell_0$ and $\\ell_1$ associated with the 2 roots."
   ]
  },
  {
   "cell_type": "code",
   "execution_count": 14,
   "metadata": {
    "slideshow": {
     "slide_type": "fragment"
    }
   },
   "outputs": [
    {
     "name": "stdout",
     "output_type": "stream",
     "text": [
      "x - 1/2 - sqrt(3)/6\n",
      "0\n",
      "-sqrt(3)/3\n",
      "1\n"
     ]
    }
   ],
   "source": [
    "# Non-normalized version\n",
    "L_01 = (x-xqs[1])\n",
    "print(L_01)\n",
    "print(L_01.subs(x, xqs[1]))\n",
    "print(L_01.subs(x, xqs[0]))\n",
    "# Normalize\n",
    "L_01 /= L_01.subs(x, xqs[0])\n",
    "print(L_01.subs(x, xqs[0]))"
   ]
  },
  {
   "cell_type": "code",
   "execution_count": 15,
   "metadata": {
    "slideshow": {
     "slide_type": "fragment"
    }
   },
   "outputs": [
    {
     "name": "stdout",
     "output_type": "stream",
     "text": [
      "[-sqrt(3)*(x - 1/2 - sqrt(3)/6), sqrt(3)*(x - 1/2 + sqrt(3)/6)]\n"
     ]
    }
   ],
   "source": [
    "# Non-normalized version\n",
    "L_11 = (x-xqs[0])\n",
    "# Normalize\n",
    "L_11 /= L_11.subs(x, xqs[1])\n",
    "\n",
    "Ls = [L_01, L_11]\n",
    "print(Ls)"
   ]
  },
  {
   "cell_type": "markdown",
   "metadata": {
    "slideshow": {
     "slide_type": "slide"
    }
   },
   "source": [
    "Finally, compute the weights."
   ]
  },
  {
   "cell_type": "code",
   "execution_count": null,
   "metadata": {
    "slideshow": {
     "slide_type": "fragment"
    }
   },
   "outputs": [],
   "source": [
    "# Insert code here"
   ]
  },
  {
   "cell_type": "code",
   "execution_count": 16,
   "metadata": {
    "slideshow": {
     "slide_type": "fragment"
    }
   },
   "outputs": [
    {
     "name": "stdout",
     "output_type": "stream",
     "text": [
      "[1/2, 1/2]\n"
     ]
    }
   ],
   "source": [
    "ws = [integrate(L, (x, a, b)) for L in Ls ] \n",
    "print(ws)"
   ]
  },
  {
   "cell_type": "markdown",
   "metadata": {},
   "source": [
    "## Exercise: Now construct a Gaussian quadrature for n=3 or n=4 points."
   ]
  }
 ],
 "metadata": {
  "jupytext": {
   "formats": "ipynb,md:myst"
  },
  "kernelspec": {
   "display_name": "Python 3 (ipykernel)",
   "language": "python",
   "name": "python3"
  },
  "language_info": {
   "codemirror_mode": {
    "name": "ipython",
    "version": 3
   },
   "file_extension": ".py",
   "mimetype": "text/x-python",
   "name": "python",
   "nbconvert_exporter": "python",
   "pygments_lexer": "ipython3",
   "version": "3.13.1"
  }
 },
 "nbformat": 4,
 "nbformat_minor": 4
}
