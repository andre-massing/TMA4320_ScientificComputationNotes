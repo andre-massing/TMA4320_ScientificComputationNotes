{
 "cells": [
  {
   "cell_type": "markdown",
   "metadata": {
    "slideshow": {
     "slide_type": "slide"
    }
   },
   "source": [
    "<!-- KODE = \"ja\", \"nei\", default \"ja\" -->\n",
    "\n",
    "<!-- dom:TITLE: Numerical integration  -->\n",
    "# Numerical integration: Part III \n",
    "<!-- dom:AUTHOR: Anne Kværnø -->\n",
    "<!-- Author: -->  \n",
    "**Anne Kværnø**, revised by **Markus Grasmair, André Massing**\n",
    "\n",
    "Date: **Feb 1, 2021** \n",
    "\n",
    "In this note, we will discuss **practical error estimate** for numerical\n",
    "integration and **adaptive integration**."
   ]
  },
  {
   "cell_type": "code",
   "execution_count": 20,
   "metadata": {
    "slideshow": {
     "slide_type": "slide"
    }
   },
   "outputs": [
    {
     "data": {
      "text/html": [
       "<link href='http://fonts.googleapis.com/css?family=Alegreya+Sans:100,300,400,500,700,800,900,100italic,300italic,400italic,500italic,700italic,800italic,900italic' rel='stylesheet' type='text/css'> <link href='http://fonts.googleapis.com/css?family=Arvo:400,700,400italic' rel='stylesheet' type='text/css'> <link href=\"https://fonts.googleapis.com/css?family=News+Cycle\" rel=\"stylesheet\"> <link href='http://fonts.googleapis.com/css?family=Nixie+One' rel='stylesheet' type='text/css'> <link href='http://fonts.googleapis.com/css?family=PT+Mono' rel='stylesheet' type='text/css'> <link href='http://fonts.googleapis.com/css?family=Shadows+Into+Light' rel='stylesheet' type='text/css'> <link href=\"https://fonts.googleapis.com/css?family=Source+Code+Pro\" rel=\"stylesheet\"> <style> @font-face {\n",
       "    /*font-family: \"Computer Modern\";*/\n",
       "    /*src: url('http://mirrors.ctan.org/fonts/cm-unicode/fonts/otf/cmunss.otf');*/\n",
       "    font-family: 'News Cycle', sans-serif;\n",
       "}\n",
       "\n",
       "\n",
       "/* main background */\n",
       "\n",
       "\n",
       "/*#notebook_panel { \n",
       "        background: #C9D4E2;\n",
       "    }*/\n",
       "\n",
       "div.cell {\n",
       "    /*max-width:600px;*/\n",
       "    /*margin-left:16% !important;*/\n",
       "    /*margin-right:auto;*/\n",
       "}\n",
       "\n",
       "div.text_cell {\n",
       "    max-width: 120ex;\n",
       "    /* instead of 100%, */\n",
       "}\n",
       "\n",
       "div.text_cell_render {\n",
       "    font-family: 'Alegreya Sans', Computer Modern, \"Helvetica Neue\", Arial, Helvetica, Geneva,   sans-serif;\n",
       "    line-height: 135%;\n",
       "    /*font-size:    45pt;*/\n",
       "    font-size: 130%;\n",
       "    /*width:600px;*/\n",
       "    /*margin-left:auto;*/\n",
       "    /*margin-right:auto;*/\n",
       "}\n",
       "\n",
       ".CodeMirror {\n",
       "    /*font-family: 'Source Code Pro', monospace;*/\n",
       "    /*font-style: italic;*/\n",
       "    /*font-weight: bold;*/\n",
       "    /*font-size: 120%;*/\n",
       "}\n",
       "\n",
       "\n",
       "/*.prompt{\n",
       "        display: None;\n",
       "    }*/\n",
       "\n",
       ".text_cell_render h1 {\n",
       "    font-family: 'Nixie One', serifV;\n",
       "    font-style: regular;\n",
       "    font-weight: 400;\n",
       "    font-size: 45pt;\n",
       "    line-height: 100%;\n",
       "        color: #497BB9;    \n",
       "    /*color: #5889C5;*/\n",
       "    /*color: rgb(0, 51, 102);*/\n",
       "    /*font-weight: 200;*/\n",
       "    /*font-size: 50pt;*/\n",
       "    margin-bottom: 0.5em;\n",
       "    margin-top: 0.5em;\n",
       "    display: block;\n",
       "}\n",
       "\n",
       ".text_cell_render h2 {\n",
       "    font-family: 'Nixie One', serif;\n",
       "    font-weight: 400;\n",
       "    font-size: 30pt;\n",
       "    line-height: 100%;\n",
       "    /*color: rgb(0,51,102);*/\n",
       "    color: #497BB9;    \n",
       "    margin-bottom: 0.1em;\n",
       "    margin-top: 0.3em;\n",
       "    display: block;\n",
       "}\t\n",
       "\n",
       ".text_cell_render h3 {\n",
       "    font-family: 'Nixie One', serif;\n",
       "    margin-top:16px;\n",
       "    font-size: 22pt;\n",
       "    font-weight: 600;\n",
       "    margin-bottom: 3px;\n",
       "    font-style: regular;\n",
       "    color: rgb(102,102,0);\n",
       "}\n",
       "\n",
       ".text_cell_render h4 {    /*Use this for captions*/\n",
       "    font-family: 'Nixie One', serif;\n",
       "    font-size: 14pt;\n",
       "/*    text-align: center;*/\n",
       "    margin-top: 0em;\n",
       "    margin-bottom: 2em;\n",
       "    font-style: regular;\n",
       "}\n",
       "\n",
       ".text_cell_render h5 {  /*Use this for small titles*/\n",
       "    font-family: 'Nixie One', sans-serif;\n",
       "    font-weight: 400;\n",
       "    font-size: 16pt;\n",
       "    color: rgb(163,0,0);\n",
       "    /*color: #5889C5;*/\n",
       "    /*margin-bottom: .5em;\n",
       "    margin-top: 0.5em;*/\n",
       "    font-style: italic;\n",
       "    margin-bottom: .1em;\n",
       "    margin-top: 0.8em;\n",
       "    display: block;\n",
       "}\n",
       "\n",
       ".warning {\n",
       "    color: rgb( 240, 20, 20)\n",
       "}\n",
       "\n",
       "</style> \n",
       "<script>\n",
       " MathJax.Hub.Config( {\n",
       "    TeX: {\n",
       "        Macros: {\n",
       "            NN: \"{\\\\bf N}\",\n",
       "            RR: \"{\\\\mathbb{R}}\",\n",
       "            mcO: \"{\\\\mathcal{O}}\"\n",
       "        },\n",
       "        equationNumbers: { autoNumber: \"AMS\" },\n",
       "        extensions: [\"AMSmath.js\", \"begingroup.js\"] \n",
       "    },\n",
       "    tex2jax: {\n",
       "        inlineMath: [ ['$', '$'], [\"\\\\(\", \"\\\\)\"]], displayMath: [ ['$$', '$$'], [\"\\\\[\", \"\\\\]\"]]\n",
       "    },\n",
       "    displayAlign: 'center', // Change this to 'center' to center equations.\n",
       "    \"HTML-CSS\": {\n",
       "        styles: {\n",
       "            '.MathJax_Display': {\n",
       "                \"margin\": 4\n",
       "            }\n",
       "        }\n",
       "    }\n",
       "}\n",
       ");\n",
       "</script>\n"
      ],
      "text/plain": [
       "<IPython.core.display.HTML object>"
      ]
     },
     "execution_count": 20,
     "metadata": {},
     "output_type": "execute_result"
    }
   ],
   "source": [
    "from IPython.core.display import HTML\n",
    "def css_styling():\n",
    "    try:\n",
    "        with open(\"tma4125.css\", \"r\") as f:\n",
    "            styles = f.read()\n",
    "            return HTML(styles)\n",
    "    except FileNotFoundError:\n",
    "        pass #Do nothing\n",
    "\n",
    "# Comment out next line and execute this cell to restore the default notebook style \n",
    "css_styling()"
   ]
  },
  {
   "cell_type": "code",
   "execution_count": 21,
   "metadata": {
    "slideshow": {
     "slide_type": "slide"
    }
   },
   "outputs": [],
   "source": [
    "%matplotlib inline\n",
    "from numpy import *\n",
    "from matplotlib.pyplot import *\n",
    "from math import factorial\n",
    "newparams = {'figure.figsize': (8.0, 4.0), 'axes.grid': True,\n",
    "             'lines.markersize': 8, 'lines.linewidth': 2,\n",
    "             'font.size': 14}\n",
    "rcParams.update(newparams)"
   ]
  },
  {
   "cell_type": "markdown",
   "metadata": {
    "slideshow": {
     "slide_type": "slide"
    }
   },
   "source": [
    "## Error estimate\n",
    "To simplify notation a bit, we will now write $S_m(a,b)$\n",
    "instead of\n",
    "$\n",
    "\\mathrm{CSR}[f]({[x_{i-1}, x_{i}]}_{i=1}^{m}).\n",
    "$"
   ]
  },
  {
   "cell_type": "markdown",
   "metadata": {
    "slideshow": {
     "slide_type": "slide"
    }
   },
   "source": [
    "From a practical point of view, the error expression derived for the composite Simpson's rule has some\n",
    "limitations, the main difficulty being that it depends on the unknown value\n",
    "$f^{(4)}(\\xi)$. In practice, we can at best use an error estimate of the form\n",
    "$$\n",
    "\\lvert I(a,b) - S_m(a,b)\\rvert \\le \\frac{(b-a) h^4}{2880} \\lVert f^{(4)}\\rVert_\\infty.\n",
    "$$\n",
    "This bound, however, often vastly overestimates the actual error.\n",
    "In addition, we do not always\n",
    "know (or want to find) $\\lVert f^{(4)}\\rVert_\\infty$. So the question arises:\n",
    "How can we find an estimate of the error, without any extra analytical\n",
    "calculations? "
   ]
  },
  {
   "cell_type": "markdown",
   "metadata": {
    "slideshow": {
     "slide_type": "slide"
    }
   },
   "source": [
    "This is the idea: \n",
    "Let the interval $(a,b)$ chosen small, such that $f^{(4)}(x)$ can be\n",
    "assumed to be almost constant over the interval. Let $H=b-a$ be the length of the interval. Let $S_1(a,b)$ and $S_2(a,b)$ be the results from Simpson's formula over one and two subintervals respectively. Further, let $C = -f^{(4)}(x)/2880$ for some $x\\in [a,b]$ --- which $x$ does not matter, as $f^{(4)}$ is assumed almost constant anyway. "
   ]
  },
  {
   "cell_type": "markdown",
   "metadata": {
    "slideshow": {
     "slide_type": "slide"
    }
   },
   "source": [
    "The errors of the two approximations are then given by\n",
    "\\begin{align*}\n",
    "I(a,b) - S_1(a,b) &\\approx C H^5,  \\\\ \n",
    "I(a,b) - S_2(a,b) &\\approx 2 C \\left(\\frac{H}{2}\\right)^5.\n",
    "\\end{align*}"
   ]
  },
  {
   "cell_type": "markdown",
   "metadata": {
    "slideshow": {
     "slide_type": "fragment"
    }
   },
   "source": [
    "Subtract the two expressions to eliminate $I(a,b)$:"
   ]
  },
  {
   "cell_type": "markdown",
   "metadata": {
    "slideshow": {
     "slide_type": "fragment"
    }
   },
   "source": [
    "$$\n",
    "S_2(a,b) - S_1(a,b) \\approx \\frac{15}{16}C H^5\n",
    "   \\qquad \\Rightarrow \\qquad\n",
    "   CH^5 \\approx \\frac{16}{15}(S_2(a,b) - S_1(a,b)).\n",
    "$$"
   ]
  },
  {
   "cell_type": "markdown",
   "metadata": {
    "slideshow": {
     "slide_type": "slide"
    }
   },
   "source": [
    "Insert this  in the expression for the error:\n",
    "\n",
    "<!-- Equation labels as ordinary links -->\n",
    "<div id=\"_auto13\"></div>\n",
    "\n",
    "\\begin{equation}\n",
    "E_1(a,b) = I(a,b) - S_1(a,b) \\approx \\frac{16}{15} (\\,S_2(a,b) - S_1(a,b)\\, ) = \\mathcal{E}_1(a,b), \n",
    "\\label{_auto13} \\tag{13}\n",
    "\\end{equation}\n",
    "\n",
    "<!-- Equation labels as ordinary links -->\n",
    "<div id=\"_auto14\"></div>\n",
    "\n",
    "\\begin{equation}  \n",
    "E_2(a,b) =  I(a,b) - S_2(a,b) \\approx \\frac{1}{15} (\\,S_2(a,b) - S_1(a,b)\\, ) = \\mathcal{E}_2(a,b).\n",
    "\\label{_auto14} \\tag{14}\n",
    "\\end{equation}"
   ]
  },
  {
   "cell_type": "markdown",
   "metadata": {
    "slideshow": {
     "slide_type": "slide"
    }
   },
   "source": [
    "This gives us a computable estimate for the error, both in $S_1$ and $S_2$. As\n",
    "the error in $S_2(a,b)$ is about 1/16 of the error in $S_1(a,b)$, and we anyway\n",
    "need to compute both, we will use $S_2(a,b)$ as our approximation. An even better\n",
    "approximation to the integral is given for free by just adding the error\n",
    "estimate:\n",
    "$$\n",
    "I(a,b) \\approx S_2(a,b) + \\mathcal{E}_2(a,b)\n",
    "= \\frac{16}{15} S_2(a,b) - \\frac{1}{15} S_1(a,b).\n",
    "$$"
   ]
  },
  {
   "cell_type": "markdown",
   "metadata": {
    "slideshow": {
     "slide_type": "slide"
    }
   },
   "source": [
    "**Example 5:**\n",
    "Find an approximation to the integral $\\int_0^1\\cos(x)dx = \\sin(1)$ by Simpson's\n",
    "rule over one and two subintervals. Find the error estimates $\\mathcal{E}_m$,\n",
    "$m=1,2$  and compare with the exact error. "
   ]
  },
  {
   "cell_type": "markdown",
   "metadata": {
    "slideshow": {
     "slide_type": "slide"
    }
   },
   "source": [
    "*Solution:*\n",
    "\n",
    "<!-- Equation labels as ordinary links -->\n",
    "<div id=\"_auto15\"></div>\n",
    "\n",
    "\\begin{equation}\n",
    "S_1(0,1) = \\frac{1}{6} \\big[ \\cos(0.0) + 4\\cos(0.5) + \\cos(1.0) \\big] = 0.8417720923 \n",
    "\\label{_auto15} \\tag{15}\n",
    "\\end{equation}\n",
    "\n",
    "<!-- Equation labels as ordinary links -->\n",
    "<div id=\"_auto16\"></div>\n",
    "\n",
    "\\begin{equation}  \n",
    "S_2(0,1) = \\frac{1}{12} \\big[ \\cos(0.0) + 4 \\cos(0.25) +2 \\cos(0.5) + 4 \\cos(0.75) + \\cos(1.0) \\big] = 0.8414893826\n",
    "\\label{_auto16} \\tag{16}\n",
    "\\end{equation}"
   ]
  },
  {
   "cell_type": "markdown",
   "metadata": {
    "slideshow": {
     "slide_type": "slide"
    }
   },
   "source": [
    "The exact error and the error estimate become:\n",
    "\n",
    "<!-- Equation labels as ordinary links -->\n",
    "<div id=\"_auto17\"></div>\n",
    "\n",
    "\\begin{equation}\n",
    "E_1(0,1) = \\sin(1) - S_1(0,1) = -3.011 \\cdot 10^{-4}, \\quad\n",
    "\\mathcal{E}_1(0,1) = \\frac{16}{15}(S_2-S_1) = -3.016\\cdot 10^{-4},  \n",
    "\\label{_auto17} \\tag{17}\n",
    "\\end{equation}\n",
    "\n",
    "<!-- Equation labels as ordinary links -->\n",
    "<div id=\"_auto18\"></div>\n",
    "\n",
    "\\begin{equation}  \n",
    "E_2(0,1) = \\sin(1)-S_2(0,1) = -1.840 \\cdot 10^{-5}, \\quad \n",
    "\\mathcal{E}_2(0,1) = \\frac{1}{16} (S_2-S_1) = -1.885 \\cdot 10^{-5}.\n",
    "\\label{_auto18} \\tag{18}\n",
    "\\end{equation}"
   ]
  },
  {
   "cell_type": "markdown",
   "metadata": {
    "slideshow": {
     "slide_type": "slide"
    }
   },
   "source": [
    "In this case, it is a very good correspondence between the error estimate and\n",
    "the exact error. An even better approximation is obtained by adding the error\n",
    "estimate to $S_2$:\n",
    "\n",
    "$$\n",
    "Q = S_{2}(0,1) + \\mathcal{E}_2(0,1) = 0.8414705353607151\n",
    "$$\n",
    "\n",
    "with an error $\\sin(1)-Q = 4.4945 \\cdot 10^{-7}$. This gives a lot of additional\n",
    "accuracy without any extra work. "
   ]
  },
  {
   "cell_type": "markdown",
   "metadata": {
    "slideshow": {
     "slide_type": "slide"
    }
   },
   "source": [
    "### Implementation of Simpson's method with an error estimate\n",
    "\n",
    "The function `simpson_basic` returns\n",
    "\n",
    "$$\n",
    "S_2(a,b) \\approx \\int_{a}^b f(x)dx\n",
    "$$\n",
    "\n",
    "including an error estimate."
   ]
  },
  {
   "cell_type": "code",
   "execution_count": 23,
   "metadata": {
    "slideshow": {
     "slide_type": "slide"
    }
   },
   "outputs": [],
   "source": [
    "def simpson_basic(f, a, b):\n",
    "    # Simpson's method with error estimate\n",
    "    # Input:  \n",
    "    #   f:    integrand\n",
    "    #   a, b: integration interval\n",
    "    # Output:\n",
    "    #   S_2(a,b) and the error estimate.\n",
    "    \n",
    "    # The nodes \n",
    "    c = 0.5*(a+b)\n",
    "    d = 0.5*(a+c)\n",
    "    e = 0.5*(c+b)\n",
    "    \n",
    "    # Calculate S1=S_1(a,b), S2=S_2(a,b) \n",
    "    H = b-a\n",
    "    S1 = H*(f(a)+4*f(c)+f(b))/6\n",
    "    S2 = 0.5*H*(f(a)+4*f(d)+2*f(c)+4*f(e)+f(b))/6\n",
    "\n",
    "    error_estimate = (S2-S1)/15    # Error estimate for S2\n",
    "    return S2, error_estimate"
   ]
  },
  {
   "cell_type": "markdown",
   "metadata": {
    "slideshow": {
     "slide_type": "slide"
    }
   },
   "source": [
    "**Test:**\n",
    "As a first check of the implementation, use the example above, and make sure\n",
    "that the results are the same:"
   ]
  },
  {
   "cell_type": "code",
   "execution_count": 24,
   "metadata": {
    "slideshow": {
     "slide_type": "slide"
    }
   },
   "outputs": [
    {
     "name": "stdout",
     "output_type": "stream",
     "text": [
      "Numerical solution = 0.84148938, exact solution = 0.84147098\n",
      "Error in S2 = -1.840e-05,  error estimate for S2 = -1.885e-05\n"
     ]
    }
   ],
   "source": [
    "# Test of simpson_basic\n",
    "\n",
    "def f(x):               # Integrand\n",
    "    return cos(x)\n",
    "\n",
    "a, b = 0, 1             # Integration interval\n",
    "    \n",
    "I_exact = sin(1)        # Exact solution for comparision\n",
    "\n",
    "# Simpson's method over two intervals, with error estimate\n",
    "S, error_estimate = simpson_basic(f, a, b)\n",
    "\n",
    "# Print the result and the exact solution \n",
    "print('Numerical solution = {:.8f}, exact solution = {:.8f}'.format(S, I_exact))\n",
    "\n",
    "# Compare the error and the error estimate \n",
    "print('Error in S2 = {:.3e},  error estimate for S2 = {:.3e}'.format(I_exact-S, error_estimate))"
   ]
  },
  {
   "cell_type": "markdown",
   "metadata": {
    "slideshow": {
     "slide_type": "slide"
    }
   },
   "source": [
    "Next, let us see how reliable the quadrature and the error estimates are for\n",
    "another example, which you have to do yourself: \n",
    "\n",
    "**Numerical experiment 3:**\n",
    "Given the integral (with solution)\n",
    "\n",
    "$$\n",
    "I(a,b) = \\int_a^b \\frac{1}{1+16x^2} dx  = \\left. \\frac{\\arctan(4x)}{4}\n",
    "\\right|_a^b\n",
    "$$"
   ]
  },
  {
   "cell_type": "markdown",
   "metadata": {
    "slideshow": {
     "slide_type": "slide"
    }
   },
   "source": [
    "1. Use `simpson_basic` to find an approximation to the integral over the interval $[0,8]$. Print out $S_2(0,8)$, the error estimate $\\mathcal{E}_2(0,8)$ and the real error $E_2(0,8)$. How reliable are the error estimates?\n",
    "\n",
    "2. Repeat the experiment over the intervals $[0,1]$ and $[4, 8]$. Notice the difference between exact error of the two intervals.\n",
    "\n",
    "3. Repeat the experiment over the interval $[0,0.1]$.\n",
    "\n",
    "**Please do this numerical experiment at home!** "
   ]
  },
  {
   "cell_type": "markdown",
   "metadata": {
    "slideshow": {
     "slide_type": "slide"
    }
   },
   "source": [
    "This is what you should observe from the experiment:\n",
    "1. Interval $[0,8]$: The error is large, and the error estimate is significantly smaller than the real error (the error is *under-estimated*).\n",
    "\n",
    "2. Interval $[0,1]$: As for the interval $[0,8]$. \n",
    "\n",
    "3. Interval $[4,8]$: Small error, and a reasonable error estimate.\n",
    "\n",
    "4. Interval $[0,0.1]$: Small error, reasonable error estimate.\n",
    "\n",
    "Why is it so, and how can we deal with it? Obviously, we need small subintervals\n",
    "near $x=0$, while large subintervals are acceptable in the last half of the\n",
    "interval. "
   ]
  },
  {
   "cell_type": "markdown",
   "metadata": {
    "slideshow": {
     "slide_type": "slide"
    }
   },
   "source": [
    "**Explanation:**\n",
    "The error in Simpson's method is given by\n",
    "\n",
    "$$\n",
    "E(a,b) = -\\frac{(b-a)^5}{2880}f^{(4)}(\\xi).\n",
    "$$"
   ]
  },
  {
   "cell_type": "markdown",
   "metadata": {
    "slideshow": {
     "slide_type": "fragment"
    }
   },
   "source": [
    "So let us take a look at $f^{(4)}(x)$:\n",
    "\n",
    "$$\n",
    "f(x)=\\frac{1}{1+16x^2} \\qquad \\Rightarrow \\qquad\n",
    "   f^{(4)}(x) = 6144 \\frac{1280 x^4 - 160x^2 +1}{(1-16x^2)^5}\n",
    "$$"
   ]
  },
  {
   "cell_type": "code",
   "execution_count": 26,
   "metadata": {
    "slideshow": {
     "slide_type": "slide"
    }
   },
   "outputs": [
    {
     "data": {
      "text/plain": [
       "Text(0.5, 0, 'x')"
      ]
     },
     "execution_count": 26,
     "metadata": {},
     "output_type": "execute_result"
    },
    {
     "data": {
      "image/png": "[encoded data removed]",
      "text/plain": [
       "<Figure size 576x288 with 1 Axes>"
      ]
     },
     "metadata": {
      "needs_background": "light"
     },
     "output_type": "display_data"
    }
   ],
   "source": [
    "# Plot the 4th derivate of Runge's function:\n",
    "def f(x):\n",
    "    return 1/(1+16*x**2)\n",
    "\n",
    "def df4(x):\n",
    "    return 6144*(1280*x**4-160*x**2+1)/((1+16*x**2)**5)\n",
    "x = linspace(0, 8, 1001)\n",
    "\n",
    "plot(x, df4(x))\n",
    "title('The 4th derivative of Runges function');\n",
    "xlabel('x')"
   ]
  },
  {
   "cell_type": "markdown",
   "metadata": {
    "slideshow": {
     "slide_type": "slide"
    }
   },
   "source": [
    "It is no surprise that the error is large and the error estimates fail (we have assumed $f^{(4)}$ almost constant for the estimates) over the interval $[0,1]$. The part of the interval where $f^{(4)}(x)$ is large has to be partitioned in significantly smaller subintervals to get an acceptable result. But how, as $f^{(4)}$ is in general not known? This is the topic of the next section. "
   ]
  },
  {
   "cell_type": "markdown",
   "metadata": {
    "slideshow": {
     "slide_type": "slide"
    }
   },
   "source": [
    "## Adaptive integration"
   ]
  },
  {
   "cell_type": "markdown",
   "metadata": {
    "slideshow": {
     "slide_type": "slide"
    }
   },
   "source": [
    "Given a basic function, for example `simpson_basic`, returning an approximation $Q(a,b)$ to the integral, as well as an error estimate $\\mathcal{E}(a,b)$. Based on this, we want to find a partitioning of the interval:\n",
    "\n",
    "$$\n",
    "a = X_0 < X_1 \\cdots < X_m = b\n",
    "$$"
   ]
  },
  {
   "cell_type": "markdown",
   "metadata": {
    "slideshow": {
     "slide_type": "fragment"
    }
   },
   "source": [
    "such that\n",
    "\n",
    "$$\n",
    "|\\mathcal{E}(X_j, X_{j+1})| \\approx \\frac{X_{k+1}-X_k}{b-a} \\cdot Tol\n",
    "$$\n",
    "\n",
    "where $Tol$ is a tolerance given by the user."
   ]
  },
  {
   "cell_type": "markdown",
   "metadata": {
    "slideshow": {
     "slide_type": "slide"
    }
   },
   "source": [
    "In this case\n",
    "\n",
    "$$\n",
    "\\text{Accumulated error over $(a,b)$} \\approx \\sum_{j=0}^{m-1} \\mathcal{E}(X_k, X_{k+1})\n",
    "   \\leq \\text{Tol}.\n",
    "$$"
   ]
  },
  {
   "cell_type": "markdown",
   "metadata": {
    "slideshow": {
     "slide_type": "slide"
    }
   },
   "source": [
    "Such a partitioning can be done by an recursive algorithm:\n",
    "\n",
    "**Algorithm: Adaptive quadrature.**\n",
    "\n",
    "Given $f$, $a$, $b$ and a user defined tolerance Tol.\n",
    "* Calculate $Q(a,b)$ and $\\mathcal{E}(a,b)$.\n",
    "\n",
    "* **if** $|\\mathcal{E}(a,b)| \\leq \\text{Tol}$:\n",
    "\n",
    "    * Accept the result, return $Q(a,b) + \\mathcal{E}(a,b)$ as an approximation to $I(a,b)$.\n",
    "\n",
    "\n",
    "* **else**:\n",
    "\n",
    "    * Let $c=(a+b)/2$, and repeat the process on each of the subintervals $[a,c]$ and $[c,b]$, with tolerance  $\\text{Tol}/2$.\n",
    "\n",
    "\n",
    "* Sum up the accepted results from each subinterval."
   ]
  },
  {
   "cell_type": "markdown",
   "metadata": {
    "slideshow": {
     "slide_type": "slide"
    }
   },
   "source": [
    "### Implementation\n",
    "\n",
    "The adaptive algorithm is implemented below with `simpson_basic` as the basic quadrature routine. \n",
    "The function `simpson_adaptive` is a recursive function, that is a function that calls itself.\n",
    "To avoid it to do so infinitely many times, an extra variable `level` is introduced, this will increase by one for each time the function calls itself. If `level` is over some maximum value, the result is returned, and a warning printed."
   ]
  },
  {
   "cell_type": "code",
   "execution_count": 27,
   "metadata": {
    "slideshow": {
     "slide_type": "slide"
    }
   },
   "outputs": [],
   "source": [
    "def simpson_basic(f, a, b):\n",
    "    # Simpson's method with error estimate\n",
    "    # Input:  \n",
    "    #   f:    integrand\n",
    "    #   a, b: integration interval\n",
    "    # Output:\n",
    "    #   S_2(a,b) and the error estimate.\n",
    "    \n",
    "    # The nodes \n",
    "    c = 0.5*(a+b)\n",
    "    d = 0.5*(a+c)\n",
    "    e = 0.5*(c+b)\n",
    "    \n",
    "    # Calculate S1=S_1(a,b), S2=S_2(a,b) \n",
    "    H = b-a\n",
    "    S1 = H*(f(a)+4*f(c)+f(b))/6\n",
    "    S2 = 0.5*H*(f(a)+4*f(d)+2*f(c)+4*f(e)+f(b))/6\n",
    "\n",
    "    error_estimate = (S2-S1)/15    # Error estimate for S2\n",
    "    return S2, error_estimate"
   ]
  },
  {
   "cell_type": "code",
   "execution_count": 29,
   "metadata": {
    "slideshow": {
     "slide_type": "slide"
    }
   },
   "outputs": [],
   "source": [
    "def simpson_adaptive(f, a, b, tol = 1.e-6, level = 0, maks_level=15):\n",
    "    # Simpson's adaptive method\n",
    "    # Input:  \n",
    "    #   f:    integrand\n",
    "    #   a, b: integration interval\n",
    "    #   tol:  tolerance\n",
    "    #   level, maks_level: For the recursion. Just ignore them. \n",
    "    # Output:\n",
    "    #   The approximation to the integral\n",
    "    \n",
    "    \n",
    "    Q, error_estimate = simpson_basic(f, a, b)    # The quadrature and the error estimate \n",
    "    \n",
    "    # -------------------------------------------------\n",
    "    # Write the output, and plot the nodes. \n",
    "    # This part is only for illustration. \n",
    "    if level == 0:\n",
    "        print(' l   a           b         feil_est   tol')\n",
    "        print('==============================================') \n",
    "    print('{:2d}   {:.6f}   {:.6f}   {:.2e}   {:.2e}'.format(\n",
    "            level, a, b, abs(error_estimate), tol))\n",
    "    \n",
    "    x = linspace(a, b, 101)\n",
    "    plot(x, f(x), [a, b], [f(a), f(b)], '.r')\n",
    "    title('The integrand and the subintervals')\n",
    "    # -------------------------------------------------\n",
    "    \n",
    "    if level >= maks_level:\n",
    "        print('Warning: Maximum number of levels used.')\n",
    "        return Q\n",
    "    \n",
    "    if abs(error_estimate) < tol:         # Accept the result, and return\n",
    "        result = Q + error_estimate      \n",
    "    else:\n",
    "        # Divide the interval in two, and apply the algorithm to each interval.\n",
    "        c = 0.5*(b+a)\n",
    "        result_left  = simpson_adaptive(f, a, c, tol = 0.5*tol, level = level+1)\n",
    "        result_right = simpson_adaptive(f, c, b, tol = 0.5*tol, level = level+1)\n",
    "        result = result_right + result_left\n",
    "    return result"
   ]
  },
  {
   "cell_type": "markdown",
   "metadata": {
    "slideshow": {
     "slide_type": "slide"
    }
   },
   "source": [
    "**Numerical experiment 4:**\n",
    "Use adaptive Simpson to find an approximation to the integral $ \\int_0^5 1/(1+16x^2)dx $ using the tolerances Tol=$10^{-3}, 10^{-5}, 10^{-7}$. Compare the numerical result with the exact one."
   ]
  },
  {
   "cell_type": "code",
   "execution_count": 30,
   "metadata": {
    "slideshow": {
     "slide_type": "slide"
    }
   },
   "outputs": [
    {
     "name": "stdout",
     "output_type": "stream",
     "text": [
      " l   a           b         feil_est   tol\n",
      "==============================================\n",
      " 0   0.000000   8.000000   4.25e-02   1.00e-03\n",
      " 1   0.000000   4.000000   1.85e-02   5.00e-04\n",
      " 2   0.000000   2.000000   5.11e-03   2.50e-04\n",
      " 3   0.000000   1.000000   7.84e-04   1.25e-04\n",
      " 4   0.000000   0.500000   6.41e-04   6.25e-05\n",
      " 5   0.000000   0.250000   3.43e-05   3.13e-05\n",
      " 6   0.000000   0.125000   1.21e-06   1.56e-05\n",
      " 6   0.125000   0.250000   1.31e-06   1.56e-05\n",
      " 5   0.250000   0.500000   7.82e-07   3.13e-05\n",
      " 4   0.500000   1.000000   1.45e-05   6.25e-05\n",
      " 3   1.000000   2.000000   1.40e-05   1.25e-04\n",
      " 2   2.000000   4.000000   8.29e-06   2.50e-04\n",
      " 1   4.000000   8.000000   4.33e-06   5.00e-04\n",
      "\n",
      "Numerical solution = 0.384903, exact solution = 0.384889\n",
      "\n",
      "Tolerance = 1.0e-03, error = 1.343e-05\n"
     ]
    },
    {
     "data": {
      "image/png": "[encoded data removed]",
      "text/plain": [
       "<Figure size 576x288 with 1 Axes>"
      ]
     },
     "metadata": {
      "needs_background": "light"
     },
     "output_type": "display_data"
    }
   ],
   "source": [
    "# Test: The adaptive Simpson's method\n",
    "def f(x):                               # Integrand       \n",
    "    return 1/(1+(4*x)**2)\n",
    "a, b = 0, 8                             # Integration interval\n",
    "I_exact = 0.25*(arctan(4*b)-arctan(4*a)) # Exact integral\n",
    "tol = 1.e-3                             # Tolerance\n",
    "# Apply the algorithm\n",
    "result = simpson_adaptive(f, a, b, tol=tol)\n",
    "# Print the result and the exact solution \n",
    "print('\\nNumerical solution = {:8f}, exact solution = {:8f}'\n",
    "      .format(result, I_exact))\n",
    "# Compare the measured error and the tolerance\n",
    "err = I_exact - result\n",
    "print('\\nTolerance = {:.1e}, error = {:.3e}'.format(tol, abs(err)))"
   ]
  }
 ],
 "metadata": {
  "celltoolbar": "Slideshow",
  "jupytext": {
   "formats": "ipynb,md:myst"
  },
  "kernelspec": {
   "display_name": "Python 3 (ipykernel)",
   "language": "python",
   "name": "python3"
  },
  "language_info": {
   "codemirror_mode": {
    "name": "ipython",
    "version": 3
   },
   "file_extension": ".py",
   "mimetype": "text/x-python",
   "name": "python",
   "nbconvert_exporter": "python",
   "pygments_lexer": "ipython3",
   "version": "3.13.1"
  }
 },
 "nbformat": 4,
 "nbformat_minor": 4
}
