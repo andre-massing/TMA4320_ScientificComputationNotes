{
 "cells": [
  {
   "attachments": {},
   "cell_type": "markdown",
   "metadata": {
    "editable": true,
    "slideshow": {
     "slide_type": "slide"
    },
    "tags": []
   },
   "source": [
    "## Polynomial interpolation: Error theory\n",
    "\n",
    "We start by executing some boilerplate code. Afterwards we recall the definition\n",
    "of the `python` function `cardinal` and `lagrange` from the previous lecture."
   ]
  },
  {
   "cell_type": "code",
   "execution_count": 1,
   "metadata": {
    "editable": true,
    "slideshow": {
     "slide_type": "slide"
    },
    "tags": []
   },
   "outputs": [],
   "source": [
    "# %matplotlib widget\n",
    "\n",
    "import numpy as np\n",
    "from numpy import pi\n",
    "from numpy.linalg import solve, norm    # Solve linear systems and compute norms\n",
    "import matplotlib.pyplot as plt\n",
    "\n",
    "newparams = {'figure.figsize': (6.0, 6.0), 'axes.grid': True,\n",
    "             'lines.markersize': 8, 'lines.linewidth': 2,\n",
    "             'font.size': 14}\n",
    "plt.rcParams.update(newparams)"
   ]
  },
  {
   "cell_type": "code",
   "execution_count": 2,
   "metadata": {
    "editable": true,
    "slideshow": {
     "slide_type": "slide"
    },
    "tags": []
   },
   "outputs": [],
   "source": [
    "def cardinal(xdata, x):\n",
    "    \"\"\"\n",
    "    cardinal(xdata, x): \n",
    "    In: xdata, array with the nodes x_i.\n",
    "        x, array or a scalar of values in which the cardinal functions are evaluated.\n",
    "    Return: l: a list of arrays of the cardinal functions evaluated in x. \n",
    "    \"\"\"\n",
    "    n = len(xdata)              # Number of evaluation points x\n",
    "    l = []\n",
    "    for i in range(n):          # Loop over the cardinal functions\n",
    "        li = np.ones(len(x))\n",
    "        for j in range(n):      # Loop to make the product for l_i\n",
    "            if i is not j:\n",
    "                li = li*(x-xdata[j])/(xdata[i]-xdata[j])\n",
    "        l.append(li)            # Append the array to the list            \n",
    "    return l\n",
    "\n",
    "def lagrange(ydata, l):\n",
    "    \"\"\"\n",
    "    lagrange(ydata, l):\n",
    "    In: ydata, array of the y-values of the interpolation points.\n",
    "         l, a list of the cardinal functions, given by cardinal(xdata, x)\n",
    "    Return: An array with the interpolation polynomial. \n",
    "    \"\"\"\n",
    "    poly = 0                        \n",
    "    for i in range(len(ydata)):\n",
    "        poly = poly + ydata[i]*l[i]  \n",
    "    return poly"
   ]
  },
  {
   "cell_type": "markdown",
   "metadata": {
    "editable": true,
    "slideshow": {
     "slide_type": "slide"
    },
    "tags": []
   },
   "source": [
    "### Error Theory\n",
    "Given some function $f\\in C[a,b]$. Choose $n+1$ distinct nodes in\n",
    "$[a,b]$ and let $p_n(x) \\in \\mathbb{P}_n$ satisfy the interpolation\n",
    "condition\n",
    "\n",
    "$$\n",
    "p_n(x_i) = f(x_i), \\qquad i=0,\\dots,n.\n",
    "$$\n",
    "\n",
    "What can be said about the error $e(x)=f(x)-p_n(x)$?"
   ]
  },
  {
   "cell_type": "markdown",
   "metadata": {
    "editable": true,
    "slideshow": {
     "slide_type": "slide"
    },
    "tags": []
   },
   "source": [
    "The goal of this section is to cover a few theoretical aspects, and to\n",
    "give the answer to the natural question:\n",
    "* If the polynomial is used to approximate a function, can we find an\n",
    "  expression for the error?\n",
    "\n",
    "* How can the error be made as small as possible? \n",
    "\n",
    "Let us start with an numerical experiment, to have a certain feeling\n",
    "of what to expect."
   ]
  },
  {
   "cell_type": "markdown",
   "metadata": {
    "editable": true,
    "slideshow": {
     "slide_type": "slide"
    },
    "tags": []
   },
   "source": [
    ":::{prf:example} Interpolation of $\\sin x$\n",
    ":label: exa-interpol-sin\n",
    "\n",
    "Let $f(x)=\\sin(x)$, $x\\in [0,2\\pi]$. Choose $n+1$ equidistributed\n",
    "nodes, that is $x_i=ih$, $i=0,\\dots,n$, and $h=2\\pi/n$. \n",
    "\n",
    "Calculate the interpolation polynomial using the functions `cardinal` and\n",
    "`lagrange`. Plot the error $e_n(x)=f(x)-p_n(x)$ for different values\n",
    "of $n$. Choose $n=4,8,16$ and $32$.  Notice how the error is\n",
    "distributed over the interval, and find the maximum error\n",
    "$\\max_{x\\in[a,b]}|e_n(x)|$ for each $n$.\n",
    "\n",
    ":::"
   ]
  },
  {
   "cell_type": "code",
   "execution_count": 3,
   "metadata": {
    "editable": true,
    "slideshow": {
     "slide_type": "slide"
    },
    "tags": []
   },
   "outputs": [],
   "source": [
    "# Define the function\n",
    "def f(x):\n",
    "    return np.sin(x)\n",
    "    \n",
    "\n",
    "# Set the interval \n",
    "a, b = -5, 5                  # The interpolation interval\n",
    "x = np.linspace(a, b, 101)    # The 'x-axis' \n",
    "\n",
    "# Set the interpolation points\n",
    "n = 6                          # Interpolation points\n",
    "xdata = np.linspace(a, b, n+1)  # Equidistributed nodes (can be changed)\n",
    "ydata = f(xdata)                \n",
    "\n",
    "# Evaluate the interpolation polynomial in the x-values\n",
    "l = cardinal(xdata, x)  \n",
    "p = lagrange(ydata, l)"
   ]
  },
  {
   "cell_type": "code",
   "execution_count": 4,
   "metadata": {
    "editable": true,
    "slideshow": {
     "slide_type": "slide"
    },
    "tags": []
   },
   "outputs": [
    {
     "name": "stdout",
     "output_type": "stream",
     "text": [
      "Max error is 2.86e-01\n"
     ]
    },
    {
     "data": {
      "image/png": "[encoded data removed]",
      "text/plain": [
       "<Figure size 600x600 with 2 Axes>"
      ]
     },
     "metadata": {},
     "output_type": "display_data"
    }
   ],
   "source": [
    "# Plot f(x) og p(x) and the interpolation points\n",
    "plt.figure()\n",
    "plt.subplot(2,1,1)                  \n",
    "plt.plot(x, f(x), x, p, xdata, ydata, 'o')\n",
    "plt.legend(['f(x)','p(x)'])\n",
    "plt.grid(True)\n",
    "\n",
    "# Plot the interpolation error\n",
    "plt.subplot(2,1,2)\n",
    "plt.plot(x, (f(x)-p))\n",
    "plt.xlabel('x')\n",
    "plt.ylabel('Error: f(x)-p(x)')\n",
    "plt.grid(True)\n",
    "print(\"Max error is {:.2e}\".format(max(abs(p-f(x)))))"
   ]
  },
  {
   "cell_type": "markdown",
   "metadata": {
    "editable": true,
    "slideshow": {
     "slide_type": "slide"
    },
    "tags": []
   },
   "source": [
    ":::{exercise} Interpolation of $\\tfrac{1}{1+x^2}$\n",
    ":label: exe-interpol-runge\n",
    "\n",
    "Repeat the previous experiment with Runge's function\n",
    "\n",
    "$$\n",
    "f(x) = \\frac{1}{1+x^2}, \\qquad x\\in [-5,5].\n",
    "$$"
   ]
  },
  {
   "cell_type": "code",
   "execution_count": null,
   "metadata": {
    "editable": true,
    "slideshow": {
     "slide_type": "slide"
    },
    "tags": []
   },
   "outputs": [],
   "source": [
    "# Insert your code here"
   ]
  },
  {
   "cell_type": "markdown",
   "metadata": {},
   "source": [
    ":::{solution-start} exe-interpol-runge\n",
    ":::"
   ]
  },
  {
   "cell_type": "code",
   "execution_count": null,
   "metadata": {
    "editable": true,
    "slideshow": {
     "slide_type": "slide"
    },
    "tags": []
   },
   "outputs": [],
   "source": [
    "# Define the function\n",
    "def r(x):\n",
    "    return 1/(1+x**2)\n",
    "    \n",
    "# Set the interval \n",
    "a, b = -5, 5                  # The interpolation interval\n",
    "x = np.linspace(a, b, 101)    # The 'x-axis' \n",
    "\n",
    "# Set the interpolation points\n",
    "n = 10                            # Interpolation points\n",
    "xdata = np.linspace(a, b, n+1)  # Equidistributed nodes (can be changed)\n",
    "ydata = r(xdata)                \n",
    "\n",
    "# Evaluate the interpolation polynomial in the x-values\n",
    "l = cardinal(xdata, x)  \n",
    "p = lagrange(ydata, l)"
   ]
  },
  {
   "cell_type": "code",
   "execution_count": null,
   "metadata": {
    "editable": true,
    "slideshow": {
     "slide_type": "slide"
    },
    "tags": []
   },
   "outputs": [],
   "source": [
    "# Plot rx) og p(x) and the interpolation points\n",
    "plt.figure()\n",
    "plt.subplot(2,1,1)                  \n",
    "plt.plot(x, r(x), x, p, xdata, ydata, 'o')\n",
    "plt.legend(['f(x)','p(x)'])\n",
    "plt.grid(True)\n",
    "\n",
    "# Plot the interpolation error\n",
    "plt.subplot(2,1,2)\n",
    "plt.plot(x, (r(x)-p))\n",
    "plt.xlabel('x')\n",
    "plt.ylabel('Error: r(x)-p(x)')\n",
    "plt.grid(True)\n",
    "print(\"Max error is {:.2e}\".format(max(abs(p-r(x)))))"
   ]
  },
  {
   "cell_type": "markdown",
   "metadata": {},
   "source": [
    ":::{solution-end}\n",
    ":::"
   ]
  },
  {
   "cell_type": "markdown",
   "metadata": {
    "editable": true,
    "slideshow": {
     "slide_type": "slide"
    },
    "tags": []
   },
   "source": [
    ":::{prf:observation}\n",
    "\n",
    "We see that approximation of Runge's functions is much worse then for the $\\sin(x)$ function and is not uniformly bounded. In fact, it seems that\n",
    "the maximum error does not decrease with an increasing number of (uniformly distributed!) interpolation nodes, but the large errors are squeezed more and more\n",
    "towards to interval endpoints.\n",
    "\n",
    ":::"
   ]
  },
  {
   "attachments": {},
   "cell_type": "markdown",
   "metadata": {
    "editable": true,
    "slideshow": {
     "slide_type": "slide"
    },
    "tags": []
   },
   "source": [
    "**Taylor polynomials once more.**\n",
    "Before we turn to the analysis of the interpolation error\n",
    "$e(x) = f(x) - p_n(x)$, we quickly recall (once more)\n",
    "Taylor polynomials and their error representation.\n",
    "For $f \\in C^{n+1}[a,b]$ and $x_0 \\in (a,b)$,\n",
    "we defined the $n$-th order Taylor polynomial $T^n_{x_0}f(x)$\n",
    "of $f$ around $x_0$ by\n",
    "\n",
    "$$\n",
    "\\begin{align*}\n",
    "T^n_{x_0}f(x) &:= \\sum_{k=0}^{n} \\frac{f^{(k)}(x_0)}{k!}(x-x_0)^k\n",
    "\\end{align*}\n",
    "$$"
   ]
  },
  {
   "cell_type": "markdown",
   "metadata": {
    "editable": true,
    "slideshow": {
     "slide_type": "fragment"
    },
    "tags": []
   },
   "source": [
    "Note that the Taylor polynomial is in fact a polynomial of order $n$\n",
    "which not only interpolates $f$ in $x_0$, but also\n",
    "its first, second etc. and $n$-th derivative $f', f'', \\ldots f^{(n)}$ in $x_0$!"
   ]
  },
  {
   "cell_type": "markdown",
   "metadata": {
    "editable": true,
    "slideshow": {
     "slide_type": "fragment"
    },
    "tags": []
   },
   "source": [
    "So the Taylor polynomial the unique polynomial of order $n$ which\n",
    "interpolates the *first $n$ derivatives*\n",
    "of $f$ in a *single point $x_0$*. In contrast,\n",
    "the interpolation polynomial $p_n$ is the unique polynomial of order $n$\n",
    "which *interpolates only the $0$-order* (that is, $f$\n",
    "itself), but in *$n$ distinctive points* $x_0, x_1,\\ldots x_n$."
   ]
  },
  {
   "cell_type": "markdown",
   "metadata": {
    "editable": true,
    "slideshow": {
     "slide_type": "slide"
    },
    "tags": []
   },
   "source": [
    "For the Taylor polynomial $T^n_{x_0}f(x)$ we have the error\n",
    "representation\n",
    "\n",
    "$$\n",
    "\\begin{align*}\n",
    "f(x) - T^n_{x_0}f(x) = R_{n+1}(x_0) \\qquad\n",
    "\\text{where }\n",
    "R_{n+1}(x_0) = \\frac{f^{(n+1)}(\\xi)}{(n+1)!} (x-x_0)^{n+1},\n",
    "\\end{align*}\n",
    "$$\n",
    "\n",
    "with $\\xi$ between $x$ and $x_0$."
   ]
  },
  {
   "cell_type": "markdown",
   "metadata": {
    "editable": true,
    "slideshow": {
     "slide_type": "fragment"
    },
    "tags": []
   },
   "source": [
    "Of course, we usually don't know the exact location of $\\xi$\n",
    "and thus not the exact error,\n",
    "but we can at least estimate\n",
    "it and bound it from above:\n",
    "\n",
    "$$\n",
    "|f(x) - T^n_{x_0}f(x)| \\leqslant\n",
    " \\frac{M}{(n+1)!} h^{n+1}\n",
    "$$\n",
    "\n",
    "where\n",
    "\n",
    "$$\n",
    "M=\\max_{x\\in[a,b]}|f^{(n+1)}(x)| \\qquad \\text{and} \\qquad h = |x-x_0|.\n",
    "$$"
   ]
  },
  {
   "cell_type": "markdown",
   "metadata": {
    "editable": true,
    "slideshow": {
     "slide_type": "fragment"
    },
    "tags": []
   },
   "source": [
    "The next theorem gives us an  expression for the interpolation\n",
    "error $e(x)=f(x)-p_n(x)$ which is similar to what we have just\n",
    "seen for the error between the Taylor polynomial and the original function\n",
    "$f$."
   ]
  },
  {
   "cell_type": "markdown",
   "metadata": {
    "editable": true,
    "slideshow": {
     "slide_type": "slide"
    },
    "tags": []
   },
   "source": [
    ":::{prf:theorem} Interpolation error\n",
    ":label: thm-interpol-error\n",
    "\n",
    "Given $f \\in C^{(n+1)}[a,b]$. Let $p_{n} \\in \\mathbb{P}_n$ interpolate $f$ in\n",
    "$n+1$ distinct nodes $x_i \\in [a,b]$. For each $x\\in [a,b]$ there is at least\n",
    "one $\\xi(x) \\in (a,b)$ such that\n",
    "\n",
    "$$\n",
    "f(x) - p_n(x) = \\frac{f^{(n+1)}(\\xi(x))}{(n+1)!}\\prod_{i=0}^n(x-x_i).\n",
    "$$"
   ]
  },
  {
   "cell_type": "markdown",
   "metadata": {
    "editable": true,
    "slideshow": {
     "slide_type": "slide"
    },
    "tags": []
   },
   "source": [
    "**Proof.**\n",
    "\n",
    "We start fromt the Newton polynomial $\\omega_{n+1} =: \\omega(x)$\n",
    "\n",
    "$$\n",
    "\\omega(x) = \\prod_{i=0}^{n}(x-x_i) = x^{n+1} + \\dotsm.\n",
    "$$"
   ]
  },
  {
   "cell_type": "markdown",
   "metadata": {
    "editable": true,
    "slideshow": {
     "slide_type": "fragment"
    },
    "tags": []
   },
   "source": [
    "Clearly, the error in the nodes, $e(x_i)=0$. \n",
    "Choose an *arbitrary* $x\\in [a,b]$, $x\\in [a,b]$, where $x\\not=x_i$,\n",
    "$i=0,1,\\dotsc,n$. For this fixed $x$, define a function in $t$ as:\n",
    "\n",
    "$$\n",
    "\\varphi(t) = e(t)\\omega(x) - e(x)\\omega(t).\n",
    "$$\n",
    "\n",
    "where $e(t) = f(t)-p_n(t)$."
   ]
  },
  {
   "cell_type": "markdown",
   "metadata": {
    "editable": true,
    "slideshow": {
     "slide_type": "slide"
    },
    "tags": []
   },
   "source": [
    "Notice that $\\varphi(t)$ is as differentiable with respect to $t$ as $f(t)$. The\n",
    "function $\\varphi(t)$ has $n+2$ distinct zeros (the nodes and the fixed x). As a\n",
    "consequence of [Rolle's theorem](https://en.wikipedia.org/wiki/Rolle's_theorem),  the derivative\n",
    "$\\varphi'(t)$ has at least $n+1$ distinct zeros, one between each of the zeros\n",
    "of $\\varphi(t)$. So $\\varphi''(t)$ has $n$ distinct\n",
    "zeros, etc. By repeating this argument, we can see that $\\varphi^{n+1}(t)$\n",
    "has at least one zero in $[a,b]$, let us call this $\\xi(x)$, as it does depend on the fixed $x$."
   ]
  },
  {
   "cell_type": "markdown",
   "metadata": {
    "editable": true,
    "slideshow": {
     "slide_type": "fragment"
    },
    "tags": []
   },
   "source": [
    " Since\n",
    "$\\omega^{(n+1)}(t)=(n+1)!$ and $e^{(n+1)}(t)=f^{(n+1)}(t)$ we obtain\n",
    "\n",
    "$$\n",
    "\\varphi^{(n+1)}(\\xi)= 0 = f^{(n+1)}(\\xi)\\omega(x) - e(x)(n+1)!\n",
    "$$\n",
    "\n",
    "which concludes the proof."
   ]
  },
  {
   "cell_type": "markdown",
   "metadata": {
    "editable": true,
    "slideshow": {
     "slide_type": "slide"
    },
    "tags": []
   },
   "source": [
    " :::{prf:observation}\n",
    "\n",
    "The interpolation error consists of three elements: The derivative of the\n",
    "function $f$, the number of interpolation points $n+1$ and the distribution of\n",
    "the nodes $x_i$. We cannot do much with the first of these, but we can choose\n",
    "the two others. Let us first look at the most obvious choice of nodes.\n",
    "\n",
    ":::"
   ]
  },
  {
   "cell_type": "markdown",
   "metadata": {
    "editable": true,
    "slideshow": {
     "slide_type": "slide"
    },
    "tags": []
   },
   "source": [
    "### Equidistributed nodes\n",
    "\n",
    "The nodes are *equidistributed* over the interval $[a,b]$ if $x_i=a+ih$, $h=(b-a)/n$, $i=0,\\ldots, n$ In this case it can\n",
    "be proved that:\n",
    "\n",
    "$$\n",
    "|\\omega(x)| \\leq \\frac{h^{n+1}}{4}n!\n",
    "$$\n",
    "\n",
    "such that\n",
    "\n",
    "$$\n",
    "|e(x)| \\leq \\frac{h^{n+1}}{4(n+1)}M, \\qquad M=\\max_{x\\in[a,b]}|f^{(n+1)}(x)|.\n",
    "$$\n",
    "\n",
    "for all $x\\in [a,b]$. \n",
    "\n",
    "Let us now see how good this error bound is by an example."
   ]
  },
  {
   "cell_type": "markdown",
   "metadata": {
    "editable": true,
    "slideshow": {
     "slide_type": "slide"
    },
    "tags": []
   },
   "source": [
    ":::{exercise} Interpolation error for $\\sin(x)$ revisited\n",
    ":label: exe-interpol-sin\n",
    "\n",
    "Let again $f(x)=\\sin(x)$ and $p_n(x)$ the polynomial interpolating $f(x)$ in\n",
    "$n+1$ equidistributed points on $ [a,b] = [0,2\\pi]$.\n",
    "An upper bound for the error for different values of $n$\n",
    "can be found easily. Clearly,\n",
    "$\\max_{x\\in[0,2\\pi]}|f^{(n+1)}(x)|=M=1$ for all $n$, so\n",
    "\n",
    "$$\n",
    "|e_n(x)| = |f(x)-p_n(x)| \\leq\n",
    "\\frac{1}{4(n+1)}\\left(\\frac{2\\pi}{n}\\right)^{n+1}, \\qquad x\\in[a,b].\n",
    "$$\n",
    "\n",
    "Use the code in the first Example of this lecture to verify the result\n",
    "for $n = 2, 4, 8, 16$. How close is the bound to the real error?\n",
    ":::"
   ]
  },
  {
   "cell_type": "code",
   "execution_count": null,
   "metadata": {
    "slideshow": {
     "slide_type": "slide"
    }
   },
   "outputs": [],
   "source": [
    "# Insert your code here"
   ]
  },
  {
   "cell_type": "markdown",
   "metadata": {
    "editable": true,
    "slideshow": {
     "slide_type": "slide"
    },
    "tags": []
   },
   "source": [
    "### Optimal choice of interpolation points\n",
    "So how can the error be reduced? For a given $n$ there is only one choice: to\n",
    "distribute the nodes in order to make the maximum of\n",
    "$|\\omega(x)|= \\prod_{j=0}^{n}|x-x_i|$ as small as possible. We will first do this\n",
    "on a standard interval $[-1,1]$, and then transfer the results to some arbitrary\n",
    "interval $[a,b]$.\n",
    "\n",
    "Let us start taking a look at $\\omega(x)$ for equidistributed nodes on the\n",
    "interval $[-1,1]$, for\n",
    "different values of $n$:"
   ]
  },
  {
   "cell_type": "code",
   "execution_count": null,
   "metadata": {
    "editable": true,
    "slideshow": {
     "slide_type": "slide"
    },
    "tags": []
   },
   "outputs": [],
   "source": [
    "newparams = {'figure.figsize': (6,3)}\n",
    "plt.rcParams.update(newparams)\n",
    "\n",
    "def omega(xdata, x):\n",
    "    # compute omega(x) for the nodes in xdata\n",
    "    n1 = len(xdata)\n",
    "    omega_value = np.ones(len(x))             \n",
    "    for j in range(n1):\n",
    "        omega_value = omega_value*(x-xdata[j])  # (x-x_0)(x-x_1)...(x-x_n)\n",
    "    return omega_value"
   ]
  },
  {
   "cell_type": "code",
   "execution_count": null,
   "metadata": {
    "editable": true,
    "slideshow": {
     "slide_type": "slide"
    },
    "tags": []
   },
   "outputs": [],
   "source": [
    "# Plot omega(x) \n",
    "n = 10                           # Number of interpolation points is n+1\n",
    "a, b = -1, 1                    # The interval\n",
    "x = np.linspace(a, b, 501)        \n",
    "xdata = np.linspace(a, b, n) \n",
    "plt.plot(x, omega(xdata, x))\n",
    "plt.grid(True)\n",
    "plt.xlabel('x')\n",
    "plt.ylabel('omega(x)')\n",
    "print(\"n = {:2d}, max|omega(x)| = {:.2e}\".format(n, max(abs(omega(xdata, x)))))"
   ]
  },
  {
   "cell_type": "markdown",
   "metadata": {
    "editable": true,
    "slideshow": {
     "slide_type": "slide"
    },
    "tags": []
   },
   "source": [
    "Run the code for different values of $n$. Notice the following: \n",
    "* $\\max_{x\\in[-1,1]} |\\omega(x)|$ becomes smaller with increasing $n$. \n",
    "\n",
    "* $|\\omega(x)|$ has its maximum values near the boundaries of $[-1, 1]$."
   ]
  },
  {
   "cell_type": "markdown",
   "metadata": {
    "editable": true,
    "slideshow": {
     "slide_type": "slide"
    },
    "tags": []
   },
   "source": [
    "A a consequence of the latter, it seems reasonable to move the nodes towards the boundaries. \n",
    "It can be proved that the optimal choice of nodes are the *Chebyshev-nodes*, given by\n",
    "\n",
    "$$\n",
    "\\tilde{x}_i = \\cos \\left( \\frac{(2i+1)\\pi}{2(n+1)} \\right), \\qquad i=0,\\dotsc,n\n",
    "$$"
   ]
  },
  {
   "attachments": {},
   "cell_type": "markdown",
   "metadata": {
    "editable": true,
    "slideshow": {
     "slide_type": "slide"
    },
    "tags": []
   },
   "source": [
    "![Chebyshev nodes](Chebyshev-nodes.png)\n",
    "\n",
    "Chebyshev nodes. Figure taken from {cite}`Holmes2023`, p.233."
   ]
  },
  {
   "cell_type": "markdown",
   "metadata": {
    "editable": true,
    "slideshow": {
     "slide_type": "slide"
    },
    "tags": []
   },
   "source": [
    "Let $\\omega_{Cheb}(x) = \\prod_{j=1}^n(x-\\tilde{x}_i)$. It is then possible to prove that\n",
    "\n",
    "$$\n",
    "\\frac{1}{2^{n}} = \\max_{x\\in [-1, 1]} |\\omega_{Cheb}(x)| \\leq \\max_{x \\in [-1, 1]} |q(x)|\n",
    "$$\n",
    "\n",
    "for all polynomials $q\\in \\mathbb{P}_n$ such that $q(x)=x^n + c_{n-1}x^{n-1}+\\dotsm+c_1x + c_0$."
   ]
  },
  {
   "cell_type": "markdown",
   "metadata": {
    "editable": true,
    "slideshow": {
     "slide_type": "slide"
    },
    "tags": []
   },
   "source": [
    "The distribution of nodes can be transferred to an interval $[a,b]$ by the linear transformation\n",
    "\n",
    "$$\n",
    "x = \\frac{b-a}{2}\\tilde{x} + \\frac{b+a}{2}\n",
    "$$\n",
    "\n",
    "where $x\\in[a,b]$ and $\\tilde{x} \\in [-1,1]$."
   ]
  },
  {
   "cell_type": "markdown",
   "metadata": {
    "editable": true,
    "slideshow": {
     "slide_type": "slide"
    },
    "tags": []
   },
   "source": [
    "By doing so we get\n",
    "\n",
    "$$\n",
    "\\omega(x) = \\prod_{j=0}^n (x-x_i) =\n",
    "  \\left(\\frac{b-a}{2}\\right)^{n+1} \\prod_{j=0}^n (\\tilde{x}-\\tilde{x}_i)\n",
    "  = \\left(\\frac{b-a}{2}\\right)^{n+1} \\omega_{Cheb}(\\tilde{x}).\n",
    "$$"
   ]
  },
  {
   "cell_type": "markdown",
   "metadata": {
    "editable": true,
    "slideshow": {
     "slide_type": "slide"
    },
    "tags": []
   },
   "source": [
    "From the theorem on interpolation errors we can conclude:\n",
    "\n",
    ":::{prf:theorem} Interpolation error for Chebyshev interpolation\n",
    "\n",
    "Given $f \\in C^{(n+1)}[a,b]$, and let $M_{n+1} = \\max_{x\\in [a,b]}|f^{(n+1)}(x)|$.  Let $p_{n} \\in \\mathbb{P}_n$ interpolate $f$ i $n+1$ Chebyshev-nodes $x_i \\in [a,b]$. Then\n",
    "\n",
    "$$\n",
    "\\max_{x\\in[a,b]}|f(x) - p_n(x)| \\leq \\frac{(b-a)^{n+1}}{2^{2n+1}(n+1)!} M_{n+1}.\n",
    "$$\n",
    "\n",
    ":::\n",
    "\n",
    "The Chebyshev nodes over an interval $[a,b]$ are evaluated in the following function:"
   ]
  },
  {
   "cell_type": "code",
   "execution_count": null,
   "metadata": {
    "editable": true,
    "slideshow": {
     "slide_type": "fragment"
    },
    "tags": []
   },
   "outputs": [],
   "source": [
    "def chebyshev_nodes(a, b, n):\n",
    "    # n Chebyshev nodes in the interval [a, b] \n",
    "    i = np.array(range(n))                 # i = [0,1,2,3, ....n-1]\n",
    "    x = np.cos((2*i+1)*pi/(2*(n)))         # nodes over the interval [-1,1]\n",
    "    return 0.5*(b-a)*x+0.5*(b+a)        # nodes over the interval [a,b]"
   ]
  },
  {
   "attachments": {},
   "cell_type": "markdown",
   "metadata": {
    "slideshow": {
     "slide_type": "slide"
    }
   },
   "source": [
    ":::{exercise} Chebyshev interpolation\n",
    ":label: exe-cheby-interpol\n",
    "\n",
    "**a)**\n",
    "Plot $\\omega_{Cheb}(x)$ for $3, 5, 9, 17$ interpolation points on the interval $[-1,1]$.\n",
    "\n",
    "**b)**\n",
    "Repeat Example 3 using Chebyshev interpolation on the functions below. Compare with the results you got from equidistributed nodes.\n",
    "\n",
    "\\begin{align*}\n",
    "  f(x) &= \\sin(x), && x\\in[0,2\\pi] \\\\ \n",
    "  f(x) &= \\frac{1}{1+x^2}, && x\\in[-5,5]. \n",
    "\\end{align*}\n",
    "\n",
    ":::"
   ]
  },
  {
   "cell_type": "markdown",
   "metadata": {},
   "source": [
    ":::{solution-start} exe-cheby-interpol\n",
    ":::\n",
    "\n",
    "**a)** Let's plot  $\\omega(x)$  first for $n$ equidistributed nodes and then $\\omega_{Cheb}(x)$ for $5, 9, 17, 25$ interpolation points on the interval $[-1,1]$."
   ]
  },
  {
   "cell_type": "code",
   "execution_count": null,
   "metadata": {
    "slideshow": {
     "slide_type": "slide"
    }
   },
   "outputs": [],
   "source": [
    "# Insert your code here\n",
    "# Define number of interpolation points\n",
    "n = 17\n",
    "# \n",
    "a, b = -1, 1                    # The interval\n",
    "x = np.linspace(a, b, 501)"
   ]
  },
  {
   "cell_type": "code",
   "execution_count": null,
   "metadata": {
    "editable": true,
    "slideshow": {
     "slide_type": "slide"
    },
    "tags": []
   },
   "outputs": [],
   "source": [
    "# equidistributes nodes\n",
    "xdata = np.linspace(a, b, n) \n",
    "\n",
    "plt.plot(x, omega(xdata, x))\n",
    "plt.plot(xdata,omega(xdata, xdata), \"o\")\n",
    "plt.grid(True)\n",
    "plt.xlabel('x')\n",
    "plt.ylabel('omega(x)')\n",
    "print(\"n = {:2d}, max|omega(x)| = {:.2e}\".format(n, max(abs(omega(xdata, x)))))"
   ]
  },
  {
   "cell_type": "code",
   "execution_count": null,
   "metadata": {
    "editable": true,
    "raw_mimetype": "",
    "slideshow": {
     "slide_type": "slide"
    },
    "tags": []
   },
   "outputs": [],
   "source": [
    "# Chebyshev nodes\n",
    "xdata = chebyshev_nodes(a, b, n) \n",
    "\n",
    "plt.plot(x, omega(xdata, x))\n",
    "plt.plot(xdata,omega(xdata, xdata), \"o\")\n",
    "plt.grid(True)\n",
    "plt.xlabel('x')\n",
    "plt.ylabel('omega(x)')\n",
    "print(\"n = {:2d}, max|omega(x)| = {:.2e}\".format(n, max(abs(omega(xdata, x)))))"
   ]
  },
  {
   "cell_type": "markdown",
   "metadata": {},
   "source": [
    "**b)** \n",
    "Let's interpolate the following functions\n",
    "\n",
    "\\begin{align*}\n",
    "  f(x) &= \\sin(x), && x\\in[0,2\\pi] \\\\ \n",
    "  f(x) &= \\frac{1}{1+x^2}, && x\\in[-5,5]. \n",
    "\\end{align*}\n",
    "\n",
    "using Chebyshev interpolation nodes."
   ]
  },
  {
   "cell_type": "code",
   "execution_count": null,
   "metadata": {
    "editable": true,
    "slideshow": {
     "slide_type": "slide"
    },
    "tags": []
   },
   "outputs": [],
   "source": [
    "# Define the function\n",
    "def f(x):\n",
    "    return 1/(1+x**2)\n",
    "\n",
    "# Set the interval \n",
    "a, b = -5, 5                  # The interpolation interval\n",
    "#a, b = 0, 2*pi               # The interpolation interval\n",
    "x = np.linspace(a, b, 101) # The 'x-axis' \n",
    "\n",
    "# Set the interpolation points\n",
    "n = 16                         # Interpolation points\n",
    "#xdata = np.linspace(a, b, n) # Equidistributed nodes (can be changed)\n",
    "xdata = chebyshev_nodes(a, b, n)\n",
    "ydata = f(xdata)                \n",
    "\n",
    "# Evaluate the interpolation polynomial in the x-values\n",
    "l = cardinal(xdata, x)  \n",
    "p = lagrange(ydata, l)"
   ]
  },
  {
   "cell_type": "code",
   "execution_count": null,
   "metadata": {
    "editable": true,
    "slideshow": {
     "slide_type": "slide"
    },
    "tags": []
   },
   "outputs": [],
   "source": [
    "# Plot f(x) og p(x) and the interpolation points\n",
    "plt.subplot(2,1,1)                  \n",
    "plt.plot(x, f(x), x, p, xdata, ydata, 'o')\n",
    "plt.legend(['f(x)','p(x)'])\n",
    "plt.grid(True)\n",
    "\n",
    "# Plot the interpolation error\n",
    "plt.subplot(2,1,2)\n",
    "plt.plot(x, (f(x)-p))\n",
    "plt.xlabel('x')\n",
    "plt.ylabel('Error: f(x)-p(x)')\n",
    "plt.grid(True)\n",
    "print(\"Max error is {:.2e}\".format(max(abs(p-f(x)))))"
   ]
  },
  {
   "cell_type": "markdown",
   "metadata": {},
   "source": [
    ":::{solution-end}\n",
    ":::"
   ]
  },
  {
   "cell_type": "markdown",
   "metadata": {
    "editable": true,
    "slideshow": {
     "slide_type": "slide"
    },
    "tags": []
   },
   "source": [
    "**For information**: \n",
    "[Chebfun](http://www.chebfun.org/) is software package which makes it possible to manipulate functions and to solve equations with accuracy close to machine accuracy. The algorithms are based on polynomial interpolation in Chebyshev nodes."
   ]
  },
  {
   "cell_type": "markdown",
   "metadata": {
    "editable": true,
    "slideshow": {
     "slide_type": "skip"
    },
    "tags": []
   },
   "source": [
    ":::{admonition} TODO\n",
    ":class: danger dropdown\n",
    "\n",
    "Add ipywidgets slider for better visualization/interactivity.\n",
    "\n",
    ":::"
   ]
  }
 ],
 "metadata": {
  "celltoolbar": "Slideshow",
  "jupytext": {
   "formats": "ipynb,md:myst"
  },
  "kernelspec": {
   "display_name": "Python 3 (ipykernel)",
   "language": "python",
   "name": "python3"
  },
  "language_info": {
   "codemirror_mode": {
    "name": "ipython",
    "version": 3
   },
   "file_extension": ".py",
   "mimetype": "text/x-python",
   "name": "python",
   "nbconvert_exporter": "python",
   "pygments_lexer": "ipython3",
   "version": "3.13.3"
  }
 },
 "nbformat": 4,
 "nbformat_minor": 4
}
